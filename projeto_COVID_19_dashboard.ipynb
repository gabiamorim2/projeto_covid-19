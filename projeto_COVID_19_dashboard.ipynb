{
  "nbformat": 4,
  "nbformat_minor": 0,
  "metadata": {
    "colab": {
      "name": "projeto COVID-19 dashboard",
      "provenance": [],
      "collapsed_sections": [],
      "toc_visible": true,
      "authorship_tag": "ABX9TyPZLJcpNiH26W2T/AItEKZL",
      "include_colab_link": true
    },
    "kernelspec": {
      "name": "python3",
      "display_name": "Python 3"
    },
    "language_info": {
      "name": "python"
    }
  },
  "cells": [
    {
      "cell_type": "markdown",
      "metadata": {
        "id": "view-in-github",
        "colab_type": "text"
      },
      "source": [
        "<a href=\"https://colab.research.google.com/github/gabiamorim2/projeto_covid-19/blob/main/projeto_COVID_19_dashboard.ipynb\" target=\"_parent\"><img src=\"https://colab.research.google.com/assets/colab-badge.svg\" alt=\"Open In Colab\"/></a>"
      ]
    },
    {
      "cell_type": "markdown",
      "source": [
        "##**Análise exploratória e visualização interativa de dados: COVID-19**"
      ],
      "metadata": {
        "id": "G75tIOJ9s67P"
      }
    },
    {
      "cell_type": "markdown",
      "source": [
        "## **1\\. Contexto**\n",
        "\n"
      ],
      "metadata": {
        "id": "MX6tG0SlsyVi"
      }
    },
    {
      "cell_type": "markdown",
      "source": [
        "A **COVID-19** é uma infecção respiratória aguda causada pelo coronavírus **SARS-CoV-2**, potencialmente grave, de elevada transmissibilidade e de distribuição global (Fonte: Ministério da Saúde - Governo Federal -  [Link](https://www.gov.br/saude/pt-br/coronavirus/o-que-e-o-coronavirus))\n"
      ],
      "metadata": {
        "id": "vNRTlNmws4Xa"
      }
    },
    {
      "cell_type": "markdown",
      "source": [
        "A disponibilidade de dados sobre a evolução da pandemia em um intervalo de tempo e em uma determinada região geográfica do país e/ou mundo, é fundamental para o **desenvolvimento de estratégias para seu combate e tratamento**. Esse projeto tem como objetivo a construção de um **dashboard de dados para exploração e visualização interativa** sobre o avanço de casos e da vacinação no Brasil. "
      ],
      "metadata": {
        "id": "fkOnCve2uRN-"
      }
    },
    {
      "cell_type": "markdown",
      "source": [
        "###**1.2 Resumo**"
      ],
      "metadata": {
        "id": "5Gl9Yek6vMJO"
      }
    },
    {
      "cell_type": "markdown",
      "source": [
        "*   **Dashboard:**\n",
        " - Google Data Studio ([`link`](https://datastudio.google.com/reporting/9c6322b8-b5cb-4f91-a149-22f248fa50b1));\n",
        "\n",
        "*   **Processamento dos dados:**\n",
        " - Kaggle ([`link`](https://www.kaggle.com/code/gabrielaamorim/projeto-covid-19#));\n",
        "\n",
        "*   **Fonte das informações:**\n",
        " - Base de dados sobre casos de Covid-19 - **Universidade John Hopkins** ([`link`](https://github.com/CSSEGISandData/COVID-19/tree/master/csse_covid_19_data/csse_covid_19_daily_reports));\n",
        " - Base de dados sobre vacinação no Brasil - **Universidade de Oxford** ([`link`](https://covid.ourworldindata.org/data/owid-covid-data.csv))."
      ],
      "metadata": {
        "id": "Or9t1E9jvUIw"
      }
    },
    {
      "cell_type": "markdown",
      "source": [
        "###**1.3 Sobre os dados**"
      ],
      "metadata": {
        "id": "J8NA7eU0wV5y"
      }
    },
    {
      "cell_type": "markdown",
      "source": [
        "Os dados sobre **casos** de COVID-19 são compilados pelo **Centro de Ciência de Sistemas e Engenharia** da universidade norte-americana **John Hopkins**. As informações são atualizadas diariamente desde janeiro de 2020 com uma granularidade temporal de dias e granularidade geográfica de regiões de países (estados, condados, etc.). O website do projeto pode ser acessado neste [`link`](https://systems.jhu.edu/research/public-health/ncov/), e os dados completos neste [`link`](https://github.com/CSSEGISandData/COVID-19/tree/master/csse_covid_19_data/csse_covid_19_daily_reports)."
      ],
      "metadata": {
        "id": "kyYMjviUws6G"
      }
    },
    {
      "cell_type": "markdown",
      "source": [
        "Abaixo estão as informações detalhadas derivadas do seu processamento."
      ],
      "metadata": {
        "id": "2s2W1uq1xdiJ"
      }
    },
    {
      "cell_type": "markdown",
      "source": [
        " - **date**: data de referência;\n",
        " - **state**: estado;\n",
        " - **country**: país; \n",
        " - **population**: população estimada;\n",
        " - **confirmed**: número acumulado de infectados;\n",
        " - **confirmed_1d**: número de infectados nas últimas 24 horas;\n",
        " - **confirmed_moving_avg_7d**: média móvel do número de infectados nos últimos 7 dias;\n",
        " - **confirmed_moving_avg_7d_rate_14d**: média móvel de 7 dias dividido pela média móvel de 7 dias de 14 dias atrás;\n",
        " - **deaths**: número acumulado de mortes;\n",
        " - **deaths_1d**: número de mortes nas últimas 24 horas;\n",
        " - **deaths_moving_avg_7d**: média móvel do número de mortes nos últimos 7 dias;\n",
        " - **deaths_moving_avg_7d**: média móvel de 7 dias dividido pela média móvel de 7 dias de 14 dias atrás;\n",
        " - **month**: mês de referência;\n",
        " - **year**: ano de referência."
      ],
      "metadata": {
        "id": "l0DDXov4xovK"
      }
    },
    {
      "cell_type": "markdown",
      "source": [
        "Os dados sobre **vacinação** foram compilados pelo projeto **Nosso Mundo em Dados** (***Our World in Data - OWID***) da universidade britânica de **Oxford** ([`link`](https://www.ox.ac.uk)). As informações são atualizadas diariamente desde janeiro de 2020 com uma granularidade temporal de dias e granularidade geográfica de países. O site do projeto pode ser acessado nesse [`link`](https://ourworldindata.org), enquanto que os dados completos podem ser acessados neste [`link`](https://covid.ourworldindata.org/data/owid-covid-data.csv).\n"
      ],
      "metadata": {
        "id": "6OJN52mFyJPY"
      }
    },
    {
      "cell_type": "markdown",
      "source": [
        "Abaixo estão as informações detalhadas derivadas do seu processamento."
      ],
      "metadata": {
        "id": "QnWEMhzr-Jfy"
      }
    },
    {
      "cell_type": "markdown",
      "source": [
        " - **date**: data de referência;\n",
        " - **country**: país;\n",
        " - **population**: população estimada;\n",
        " - **total**: número total de doses administradas;\n",
        " - **one_shot**: número total de pessoas que tomaram uma dose;\n",
        " - **one_shot_perc**: número percentual relativo de pessoas com uma dose;\n",
        " - **two_shots**: número total de pessoas que tomaram duas doses;\n",
        " - **two_shot_perc**: número percentual relativo de pessoas com duas doses;\n",
        " - **three_shots**: número total de pessoas que tomaram três doses;\n",
        " - **three_shot_perc**: número percentual relativo de pessoas com três doses;\n",
        " - **month**: mês de referência;\n",
        " - **year**: ano de referência."
      ],
      "metadata": {
        "id": "sywi8rZL-VbK"
      }
    },
    {
      "cell_type": "markdown",
      "source": [
        "## **2\\. Análise Exploratória de Dados**"
      ],
      "metadata": {
        "id": "75vZhFAn_M-C"
      }
    },
    {
      "cell_type": "markdown",
      "source": [
        "Nesta seção, vamos processar os dados brutos de forma que fiquem adequados para a construção de um dashboard interativo ao final do projeto. Para as análises, vamos utilizar os seguintes pacotes:"
      ],
      "metadata": {
        "id": "WHAxs6k3_fH-"
      }
    },
    {
      "cell_type": "code",
      "source": [
        "import math\n",
        "from typing import Iterator\n",
        "from datetime import datetime, timedelta\n",
        "\n",
        "import numpy as np\n",
        "import pandas as pd"
      ],
      "metadata": {
        "id": "sxZ1dFDc_Mrp"
      },
      "execution_count": null,
      "outputs": []
    },
    {
      "cell_type": "markdown",
      "source": [
        "## **2\\.1 Casos de infectados**\n",
        "\n"
      ],
      "metadata": {
        "id": "xn66pMjzAUJi"
      }
    },
    {
      "cell_type": "markdown",
      "source": [
        "###**2.1.1 Extração**"
      ],
      "metadata": {
        "id": "HFIGNtoSAXjD"
      }
    },
    {
      "cell_type": "markdown",
      "source": [
        "Vamos começar processando as informações de **casos** de COVID-19 provenientes da base de dados da universidade John Hopkins. Os dados foram compilados em um arquivo por dia (por exemplo: 2021/12/01)."
      ],
      "metadata": {
        "id": "8hjliYY1Adw1"
      }
    },
    {
      "cell_type": "code",
      "source": [
        "casos = pd.read_csv('https://raw.githubusercontent.com/CSSEGISandData/COVID-19/master/csse_covid_19_data/csse_covid_19_daily_reports/01-12-2021.csv', sep=',')"
      ],
      "metadata": {
        "id": "8FTy3kOLBK3e"
      },
      "execution_count": null,
      "outputs": []
    },
    {
      "cell_type": "code",
      "source": [
        "casos.head()"
      ],
      "metadata": {
        "colab": {
          "base_uri": "https://localhost:8080/",
          "height": 357
        },
        "id": "ZVuULiygBSgZ",
        "outputId": "662ac7bf-29e1-43ec-c454-317b49dc3bc3"
      },
      "execution_count": null,
      "outputs": [
        {
          "output_type": "execute_result",
          "data": {
            "text/plain": [
              "   FIPS Admin2 Province_State Country_Region          Last_Update       Lat  \\\n",
              "0   NaN    NaN            NaN    Afghanistan  2021-01-13 05:22:15  33.93911   \n",
              "1   NaN    NaN            NaN        Albania  2021-01-13 05:22:15  41.15330   \n",
              "2   NaN    NaN            NaN        Algeria  2021-01-13 05:22:15  28.03390   \n",
              "3   NaN    NaN            NaN        Andorra  2021-01-13 05:22:15  42.50630   \n",
              "4   NaN    NaN            NaN         Angola  2021-01-13 05:22:15 -11.20270   \n",
              "\n",
              "       Long_  Confirmed  Deaths  Recovered  Active Combined_Key  \\\n",
              "0  67.709953      53584    2301      44608    6675  Afghanistan   \n",
              "1  20.168300      64627    1252      38421   24954      Albania   \n",
              "2   1.659600     102641    2816      69608   30217      Algeria   \n",
              "3   1.521800       8682      86       7930     666      Andorra   \n",
              "4  17.873900      18343     422      15512    2409       Angola   \n",
              "\n",
              "   Incident_Rate  Case_Fatality_Ratio  \n",
              "0     137.647787             4.294192  \n",
              "1    2245.708527             1.937271  \n",
              "2     234.067409             2.743543  \n",
              "3   11236.653077             0.990555  \n",
              "4      55.811022             2.300605  "
            ],
            "text/html": [
              "\n",
              "  <div id=\"df-acde26cc-8228-4079-81a9-f1e5017e1463\">\n",
              "    <div class=\"colab-df-container\">\n",
              "      <div>\n",
              "<style scoped>\n",
              "    .dataframe tbody tr th:only-of-type {\n",
              "        vertical-align: middle;\n",
              "    }\n",
              "\n",
              "    .dataframe tbody tr th {\n",
              "        vertical-align: top;\n",
              "    }\n",
              "\n",
              "    .dataframe thead th {\n",
              "        text-align: right;\n",
              "    }\n",
              "</style>\n",
              "<table border=\"1\" class=\"dataframe\">\n",
              "  <thead>\n",
              "    <tr style=\"text-align: right;\">\n",
              "      <th></th>\n",
              "      <th>FIPS</th>\n",
              "      <th>Admin2</th>\n",
              "      <th>Province_State</th>\n",
              "      <th>Country_Region</th>\n",
              "      <th>Last_Update</th>\n",
              "      <th>Lat</th>\n",
              "      <th>Long_</th>\n",
              "      <th>Confirmed</th>\n",
              "      <th>Deaths</th>\n",
              "      <th>Recovered</th>\n",
              "      <th>Active</th>\n",
              "      <th>Combined_Key</th>\n",
              "      <th>Incident_Rate</th>\n",
              "      <th>Case_Fatality_Ratio</th>\n",
              "    </tr>\n",
              "  </thead>\n",
              "  <tbody>\n",
              "    <tr>\n",
              "      <th>0</th>\n",
              "      <td>NaN</td>\n",
              "      <td>NaN</td>\n",
              "      <td>NaN</td>\n",
              "      <td>Afghanistan</td>\n",
              "      <td>2021-01-13 05:22:15</td>\n",
              "      <td>33.93911</td>\n",
              "      <td>67.709953</td>\n",
              "      <td>53584</td>\n",
              "      <td>2301</td>\n",
              "      <td>44608</td>\n",
              "      <td>6675</td>\n",
              "      <td>Afghanistan</td>\n",
              "      <td>137.647787</td>\n",
              "      <td>4.294192</td>\n",
              "    </tr>\n",
              "    <tr>\n",
              "      <th>1</th>\n",
              "      <td>NaN</td>\n",
              "      <td>NaN</td>\n",
              "      <td>NaN</td>\n",
              "      <td>Albania</td>\n",
              "      <td>2021-01-13 05:22:15</td>\n",
              "      <td>41.15330</td>\n",
              "      <td>20.168300</td>\n",
              "      <td>64627</td>\n",
              "      <td>1252</td>\n",
              "      <td>38421</td>\n",
              "      <td>24954</td>\n",
              "      <td>Albania</td>\n",
              "      <td>2245.708527</td>\n",
              "      <td>1.937271</td>\n",
              "    </tr>\n",
              "    <tr>\n",
              "      <th>2</th>\n",
              "      <td>NaN</td>\n",
              "      <td>NaN</td>\n",
              "      <td>NaN</td>\n",
              "      <td>Algeria</td>\n",
              "      <td>2021-01-13 05:22:15</td>\n",
              "      <td>28.03390</td>\n",
              "      <td>1.659600</td>\n",
              "      <td>102641</td>\n",
              "      <td>2816</td>\n",
              "      <td>69608</td>\n",
              "      <td>30217</td>\n",
              "      <td>Algeria</td>\n",
              "      <td>234.067409</td>\n",
              "      <td>2.743543</td>\n",
              "    </tr>\n",
              "    <tr>\n",
              "      <th>3</th>\n",
              "      <td>NaN</td>\n",
              "      <td>NaN</td>\n",
              "      <td>NaN</td>\n",
              "      <td>Andorra</td>\n",
              "      <td>2021-01-13 05:22:15</td>\n",
              "      <td>42.50630</td>\n",
              "      <td>1.521800</td>\n",
              "      <td>8682</td>\n",
              "      <td>86</td>\n",
              "      <td>7930</td>\n",
              "      <td>666</td>\n",
              "      <td>Andorra</td>\n",
              "      <td>11236.653077</td>\n",
              "      <td>0.990555</td>\n",
              "    </tr>\n",
              "    <tr>\n",
              "      <th>4</th>\n",
              "      <td>NaN</td>\n",
              "      <td>NaN</td>\n",
              "      <td>NaN</td>\n",
              "      <td>Angola</td>\n",
              "      <td>2021-01-13 05:22:15</td>\n",
              "      <td>-11.20270</td>\n",
              "      <td>17.873900</td>\n",
              "      <td>18343</td>\n",
              "      <td>422</td>\n",
              "      <td>15512</td>\n",
              "      <td>2409</td>\n",
              "      <td>Angola</td>\n",
              "      <td>55.811022</td>\n",
              "      <td>2.300605</td>\n",
              "    </tr>\n",
              "  </tbody>\n",
              "</table>\n",
              "</div>\n",
              "      <button class=\"colab-df-convert\" onclick=\"convertToInteractive('df-acde26cc-8228-4079-81a9-f1e5017e1463')\"\n",
              "              title=\"Convert this dataframe to an interactive table.\"\n",
              "              style=\"display:none;\">\n",
              "        \n",
              "  <svg xmlns=\"http://www.w3.org/2000/svg\" height=\"24px\"viewBox=\"0 0 24 24\"\n",
              "       width=\"24px\">\n",
              "    <path d=\"M0 0h24v24H0V0z\" fill=\"none\"/>\n",
              "    <path d=\"M18.56 5.44l.94 2.06.94-2.06 2.06-.94-2.06-.94-.94-2.06-.94 2.06-2.06.94zm-11 1L8.5 8.5l.94-2.06 2.06-.94-2.06-.94L8.5 2.5l-.94 2.06-2.06.94zm10 10l.94 2.06.94-2.06 2.06-.94-2.06-.94-.94-2.06-.94 2.06-2.06.94z\"/><path d=\"M17.41 7.96l-1.37-1.37c-.4-.4-.92-.59-1.43-.59-.52 0-1.04.2-1.43.59L10.3 9.45l-7.72 7.72c-.78.78-.78 2.05 0 2.83L4 21.41c.39.39.9.59 1.41.59.51 0 1.02-.2 1.41-.59l7.78-7.78 2.81-2.81c.8-.78.8-2.07 0-2.86zM5.41 20L4 18.59l7.72-7.72 1.47 1.35L5.41 20z\"/>\n",
              "  </svg>\n",
              "      </button>\n",
              "      \n",
              "  <style>\n",
              "    .colab-df-container {\n",
              "      display:flex;\n",
              "      flex-wrap:wrap;\n",
              "      gap: 12px;\n",
              "    }\n",
              "\n",
              "    .colab-df-convert {\n",
              "      background-color: #E8F0FE;\n",
              "      border: none;\n",
              "      border-radius: 50%;\n",
              "      cursor: pointer;\n",
              "      display: none;\n",
              "      fill: #1967D2;\n",
              "      height: 32px;\n",
              "      padding: 0 0 0 0;\n",
              "      width: 32px;\n",
              "    }\n",
              "\n",
              "    .colab-df-convert:hover {\n",
              "      background-color: #E2EBFA;\n",
              "      box-shadow: 0px 1px 2px rgba(60, 64, 67, 0.3), 0px 1px 3px 1px rgba(60, 64, 67, 0.15);\n",
              "      fill: #174EA6;\n",
              "    }\n",
              "\n",
              "    [theme=dark] .colab-df-convert {\n",
              "      background-color: #3B4455;\n",
              "      fill: #D2E3FC;\n",
              "    }\n",
              "\n",
              "    [theme=dark] .colab-df-convert:hover {\n",
              "      background-color: #434B5C;\n",
              "      box-shadow: 0px 1px 3px 1px rgba(0, 0, 0, 0.15);\n",
              "      filter: drop-shadow(0px 1px 2px rgba(0, 0, 0, 0.3));\n",
              "      fill: #FFFFFF;\n",
              "    }\n",
              "  </style>\n",
              "\n",
              "      <script>\n",
              "        const buttonEl =\n",
              "          document.querySelector('#df-acde26cc-8228-4079-81a9-f1e5017e1463 button.colab-df-convert');\n",
              "        buttonEl.style.display =\n",
              "          google.colab.kernel.accessAllowed ? 'block' : 'none';\n",
              "\n",
              "        async function convertToInteractive(key) {\n",
              "          const element = document.querySelector('#df-acde26cc-8228-4079-81a9-f1e5017e1463');\n",
              "          const dataTable =\n",
              "            await google.colab.kernel.invokeFunction('convertToInteractive',\n",
              "                                                     [key], {});\n",
              "          if (!dataTable) return;\n",
              "\n",
              "          const docLinkHtml = 'Like what you see? Visit the ' +\n",
              "            '<a target=\"_blank\" href=https://colab.research.google.com/notebooks/data_table.ipynb>data table notebook</a>'\n",
              "            + ' to learn more about interactive tables.';\n",
              "          element.innerHTML = '';\n",
              "          dataTable['output_type'] = 'display_data';\n",
              "          await google.colab.output.renderOutput(dataTable, element);\n",
              "          const docLink = document.createElement('div');\n",
              "          docLink.innerHTML = docLinkHtml;\n",
              "          element.appendChild(docLink);\n",
              "        }\n",
              "      </script>\n",
              "    </div>\n",
              "  </div>\n",
              "  "
            ]
          },
          "metadata": {},
          "execution_count": 3
        }
      ]
    },
    {
      "cell_type": "markdown",
      "source": [
        "Vamos definir uma função para iterar dentro de um intervalo de tempo definido e extrair as informações que queremos."
      ],
      "metadata": {
        "id": "yhBKD9YqBaqU"
      }
    },
    {
      "cell_type": "code",
      "source": [
        "def date_range(start_date: datetime, end_date: datetime) -> Iterator[datetime]:\n",
        "  date_range_days: int = (end_date - start_date).days\n",
        "  for lag in range(date_range_days):\n",
        "    yield start_date + timedelta(lag)"
      ],
      "metadata": {
        "id": "ivkwwgq0Bo0L"
      },
      "execution_count": null,
      "outputs": []
    },
    {
      "cell_type": "code",
      "source": [
        "#definindo o intervalo de tempo\n",
        "\n",
        "start_date = datetime(2021,  1,  1)\n",
        "end_date   = datetime(2021, 12, 31)"
      ],
      "metadata": {
        "id": "HO_Asq7xUzKT"
      },
      "execution_count": null,
      "outputs": []
    },
    {
      "cell_type": "markdown",
      "source": [
        "De maneira iterativa, vamos selecionar as colunas de interesse e as informações referentes ao Brasil."
      ],
      "metadata": {
        "id": "SdH8460kU5as"
      }
    },
    {
      "cell_type": "code",
      "source": [
        "casos = None\n",
        "casos_vazio = True\n",
        "\n",
        "for date in date_range(start_date=start_date, end_date=end_date):\n",
        "\n",
        "  date_str = date.strftime('%m-%d-%Y')\n",
        "  data_source_url = f'https://raw.githubusercontent.com/CSSEGISandData/COVID-19/master/csse_covid_19_data/csse_covid_19_daily_reports/{date_str}.csv'\n",
        "\n",
        "  caso = pd.read_csv(data_source_url, sep=',')\n",
        "\n",
        "  caso = caso.drop(['FIPS', 'Admin2', 'Last_Update', 'Lat', 'Long_', 'Recovered', 'Active', 'Combined_Key', 'Case_Fatality_Ratio'], axis=1)\n",
        "  caso = caso.query('Country_Region == \"Brazil\"').reset_index(drop=True)\n",
        "  caso['Date'] = pd.to_datetime(date.strftime('%Y-%m-%d'))\n",
        "\n",
        "  if casos_vazio:\n",
        "    casos = caso\n",
        "    casos_vazio = False\n",
        "  else:\n",
        "    casos = casos.append(caso, ignore_index=True)"
      ],
      "metadata": {
        "id": "pvkwS6opVCGd"
      },
      "execution_count": null,
      "outputs": []
    },
    {
      "cell_type": "markdown",
      "source": [
        "###**2.1.2 Transformação**"
      ],
      "metadata": {
        "id": "QECKyBOVWmhO"
      }
    },
    {
      "cell_type": "markdown",
      "source": [
        "Vamos manejar as informações de forma a garantir uma boa granularidade e qualidade dos dados."
      ],
      "metadata": {
        "id": "dkAiMmIUWuIt"
      }
    },
    {
      "cell_type": "code",
      "source": [
        "casos.head()"
      ],
      "metadata": {
        "colab": {
          "base_uri": "https://localhost:8080/",
          "height": 206
        },
        "id": "t02ssQclXbRS",
        "outputId": "ee4f8018-9f9f-43c2-e193-fcce686a9d7b"
      },
      "execution_count": null,
      "outputs": [
        {
          "output_type": "execute_result",
          "data": {
            "text/plain": [
              "  Province_State Country_Region  Confirmed  Deaths  Incident_Rate       Date\n",
              "0           Acre         Brazil      41689     796    4726.992352 2021-01-01\n",
              "1        Alagoas         Brazil     105091    2496    3148.928928 2021-01-01\n",
              "2          Amapa         Brazil      68361     926    8083.066602 2021-01-01\n",
              "3       Amazonas         Brazil     201574    5295    4863.536793 2021-01-01\n",
              "4          Bahia         Brazil     494684    9159    3326.039611 2021-01-01"
            ],
            "text/html": [
              "\n",
              "  <div id=\"df-26ab814b-b1a6-4b83-86b4-7ccf26d91b91\">\n",
              "    <div class=\"colab-df-container\">\n",
              "      <div>\n",
              "<style scoped>\n",
              "    .dataframe tbody tr th:only-of-type {\n",
              "        vertical-align: middle;\n",
              "    }\n",
              "\n",
              "    .dataframe tbody tr th {\n",
              "        vertical-align: top;\n",
              "    }\n",
              "\n",
              "    .dataframe thead th {\n",
              "        text-align: right;\n",
              "    }\n",
              "</style>\n",
              "<table border=\"1\" class=\"dataframe\">\n",
              "  <thead>\n",
              "    <tr style=\"text-align: right;\">\n",
              "      <th></th>\n",
              "      <th>Province_State</th>\n",
              "      <th>Country_Region</th>\n",
              "      <th>Confirmed</th>\n",
              "      <th>Deaths</th>\n",
              "      <th>Incident_Rate</th>\n",
              "      <th>Date</th>\n",
              "    </tr>\n",
              "  </thead>\n",
              "  <tbody>\n",
              "    <tr>\n",
              "      <th>0</th>\n",
              "      <td>Acre</td>\n",
              "      <td>Brazil</td>\n",
              "      <td>41689</td>\n",
              "      <td>796</td>\n",
              "      <td>4726.992352</td>\n",
              "      <td>2021-01-01</td>\n",
              "    </tr>\n",
              "    <tr>\n",
              "      <th>1</th>\n",
              "      <td>Alagoas</td>\n",
              "      <td>Brazil</td>\n",
              "      <td>105091</td>\n",
              "      <td>2496</td>\n",
              "      <td>3148.928928</td>\n",
              "      <td>2021-01-01</td>\n",
              "    </tr>\n",
              "    <tr>\n",
              "      <th>2</th>\n",
              "      <td>Amapa</td>\n",
              "      <td>Brazil</td>\n",
              "      <td>68361</td>\n",
              "      <td>926</td>\n",
              "      <td>8083.066602</td>\n",
              "      <td>2021-01-01</td>\n",
              "    </tr>\n",
              "    <tr>\n",
              "      <th>3</th>\n",
              "      <td>Amazonas</td>\n",
              "      <td>Brazil</td>\n",
              "      <td>201574</td>\n",
              "      <td>5295</td>\n",
              "      <td>4863.536793</td>\n",
              "      <td>2021-01-01</td>\n",
              "    </tr>\n",
              "    <tr>\n",
              "      <th>4</th>\n",
              "      <td>Bahia</td>\n",
              "      <td>Brazil</td>\n",
              "      <td>494684</td>\n",
              "      <td>9159</td>\n",
              "      <td>3326.039611</td>\n",
              "      <td>2021-01-01</td>\n",
              "    </tr>\n",
              "  </tbody>\n",
              "</table>\n",
              "</div>\n",
              "      <button class=\"colab-df-convert\" onclick=\"convertToInteractive('df-26ab814b-b1a6-4b83-86b4-7ccf26d91b91')\"\n",
              "              title=\"Convert this dataframe to an interactive table.\"\n",
              "              style=\"display:none;\">\n",
              "        \n",
              "  <svg xmlns=\"http://www.w3.org/2000/svg\" height=\"24px\"viewBox=\"0 0 24 24\"\n",
              "       width=\"24px\">\n",
              "    <path d=\"M0 0h24v24H0V0z\" fill=\"none\"/>\n",
              "    <path d=\"M18.56 5.44l.94 2.06.94-2.06 2.06-.94-2.06-.94-.94-2.06-.94 2.06-2.06.94zm-11 1L8.5 8.5l.94-2.06 2.06-.94-2.06-.94L8.5 2.5l-.94 2.06-2.06.94zm10 10l.94 2.06.94-2.06 2.06-.94-2.06-.94-.94-2.06-.94 2.06-2.06.94z\"/><path d=\"M17.41 7.96l-1.37-1.37c-.4-.4-.92-.59-1.43-.59-.52 0-1.04.2-1.43.59L10.3 9.45l-7.72 7.72c-.78.78-.78 2.05 0 2.83L4 21.41c.39.39.9.59 1.41.59.51 0 1.02-.2 1.41-.59l7.78-7.78 2.81-2.81c.8-.78.8-2.07 0-2.86zM5.41 20L4 18.59l7.72-7.72 1.47 1.35L5.41 20z\"/>\n",
              "  </svg>\n",
              "      </button>\n",
              "      \n",
              "  <style>\n",
              "    .colab-df-container {\n",
              "      display:flex;\n",
              "      flex-wrap:wrap;\n",
              "      gap: 12px;\n",
              "    }\n",
              "\n",
              "    .colab-df-convert {\n",
              "      background-color: #E8F0FE;\n",
              "      border: none;\n",
              "      border-radius: 50%;\n",
              "      cursor: pointer;\n",
              "      display: none;\n",
              "      fill: #1967D2;\n",
              "      height: 32px;\n",
              "      padding: 0 0 0 0;\n",
              "      width: 32px;\n",
              "    }\n",
              "\n",
              "    .colab-df-convert:hover {\n",
              "      background-color: #E2EBFA;\n",
              "      box-shadow: 0px 1px 2px rgba(60, 64, 67, 0.3), 0px 1px 3px 1px rgba(60, 64, 67, 0.15);\n",
              "      fill: #174EA6;\n",
              "    }\n",
              "\n",
              "    [theme=dark] .colab-df-convert {\n",
              "      background-color: #3B4455;\n",
              "      fill: #D2E3FC;\n",
              "    }\n",
              "\n",
              "    [theme=dark] .colab-df-convert:hover {\n",
              "      background-color: #434B5C;\n",
              "      box-shadow: 0px 1px 3px 1px rgba(0, 0, 0, 0.15);\n",
              "      filter: drop-shadow(0px 1px 2px rgba(0, 0, 0, 0.3));\n",
              "      fill: #FFFFFF;\n",
              "    }\n",
              "  </style>\n",
              "\n",
              "      <script>\n",
              "        const buttonEl =\n",
              "          document.querySelector('#df-26ab814b-b1a6-4b83-86b4-7ccf26d91b91 button.colab-df-convert');\n",
              "        buttonEl.style.display =\n",
              "          google.colab.kernel.accessAllowed ? 'block' : 'none';\n",
              "\n",
              "        async function convertToInteractive(key) {\n",
              "          const element = document.querySelector('#df-26ab814b-b1a6-4b83-86b4-7ccf26d91b91');\n",
              "          const dataTable =\n",
              "            await google.colab.kernel.invokeFunction('convertToInteractive',\n",
              "                                                     [key], {});\n",
              "          if (!dataTable) return;\n",
              "\n",
              "          const docLinkHtml = 'Like what you see? Visit the ' +\n",
              "            '<a target=\"_blank\" href=https://colab.research.google.com/notebooks/data_table.ipynb>data table notebook</a>'\n",
              "            + ' to learn more about interactive tables.';\n",
              "          element.innerHTML = '';\n",
              "          dataTable['output_type'] = 'display_data';\n",
              "          await google.colab.output.renderOutput(dataTable, element);\n",
              "          const docLink = document.createElement('div');\n",
              "          docLink.innerHTML = docLinkHtml;\n",
              "          element.appendChild(docLink);\n",
              "        }\n",
              "      </script>\n",
              "    </div>\n",
              "  </div>\n",
              "  "
            ]
          },
          "metadata": {},
          "execution_count": 8
        }
      ]
    },
    {
      "cell_type": "code",
      "source": [
        "#quantidade de linhas e colunas do dataframe\n",
        "\n",
        "casos.shape"
      ],
      "metadata": {
        "colab": {
          "base_uri": "https://localhost:8080/"
        },
        "id": "c_d9MuIOXcZh",
        "outputId": "7a876bdc-11d0-4825-b9eb-7da7f673973d"
      },
      "execution_count": null,
      "outputs": [
        {
          "output_type": "execute_result",
          "data": {
            "text/plain": [
              "(9828, 6)"
            ]
          },
          "metadata": {},
          "execution_count": 9
        }
      ]
    },
    {
      "cell_type": "code",
      "source": [
        "#informações sobre os tipos de dados das colunas\n",
        "\n",
        "casos.info()"
      ],
      "metadata": {
        "colab": {
          "base_uri": "https://localhost:8080/"
        },
        "id": "D9ioSH22XeFi",
        "outputId": "8214c3cc-8481-4d77-ae29-1e8076f1263c"
      },
      "execution_count": null,
      "outputs": [
        {
          "output_type": "stream",
          "name": "stdout",
          "text": [
            "<class 'pandas.core.frame.DataFrame'>\n",
            "RangeIndex: 9828 entries, 0 to 9827\n",
            "Data columns (total 6 columns):\n",
            " #   Column          Non-Null Count  Dtype         \n",
            "---  ------          --------------  -----         \n",
            " 0   Province_State  9828 non-null   object        \n",
            " 1   Country_Region  9828 non-null   object        \n",
            " 2   Confirmed       9828 non-null   int64         \n",
            " 3   Deaths          9828 non-null   int64         \n",
            " 4   Incident_Rate   9828 non-null   float64       \n",
            " 5   Date            9828 non-null   datetime64[ns]\n",
            "dtypes: datetime64[ns](1), float64(1), int64(2), object(2)\n",
            "memory usage: 460.8+ KB\n"
          ]
        }
      ]
    },
    {
      "cell_type": "markdown",
      "source": [
        "Vamos começar ajustando o **nome das colunas** de interesse e deixá-los todos com letra minúscula."
      ],
      "metadata": {
        "id": "HZk_CWIYX4An"
      }
    },
    {
      "cell_type": "code",
      "source": [
        "casos = casos.rename(columns={\n",
        "    'Province_State': 'state',\n",
        "    'Country_Region': 'country'\n",
        "})\n",
        "\n",
        "for col in casos.columns:\n",
        "  casos = casos.rename(columns={col: col.lower()})"
      ],
      "metadata": {
        "id": "8eAZ2bryX-sA"
      },
      "execution_count": null,
      "outputs": []
    },
    {
      "cell_type": "markdown",
      "source": [
        "Editando o nome dos **estados**."
      ],
      "metadata": {
        "id": "EY6QmRuGZzwW"
      }
    },
    {
      "cell_type": "code",
      "source": [
        "states_map = {\n",
        "    'Amapa': 'Amapá',\n",
        "    'Ceara': 'Ceará',\n",
        "    'Espirito Santo': 'Espírito Santo',\n",
        "    'Goias': 'Goiás',\n",
        "    'Para': 'Pará',\n",
        "    'Paraiba': 'Paraíba',\n",
        "    'Parana': 'Paraná',\n",
        "    'Piaui': 'Piauí',\n",
        "    'Rondonia': 'Rondônia',\n",
        "    'Sao Paulo': 'São Paulo'\n",
        "}\n",
        "\n",
        "casos['state'] = casos['state'].apply(lambda state: states_map.get(state) if state in states_map.keys() else state)"
      ],
      "metadata": {
        "id": "TPle4WMGZ7Yv"
      },
      "execution_count": null,
      "outputs": []
    },
    {
      "cell_type": "markdown",
      "source": [
        "Criação duas novas colunas com **chaves temporais**.\n"
      ],
      "metadata": {
        "id": "m6u2S064aIFB"
      }
    },
    {
      "cell_type": "code",
      "source": [
        "#criação das colunas 'month' e 'year'\n",
        "\n",
        "casos['month'] = casos['date'].apply(lambda date: date.strftime('%Y-%m'))\n",
        "casos['year'] = casos['date'].apply(lambda date: date.strftime('%Y'))"
      ],
      "metadata": {
        "id": "NsKKJTUaaO4H"
      },
      "execution_count": null,
      "outputs": []
    },
    {
      "cell_type": "markdown",
      "source": [
        "Criação de uma nova coluna com **população estimada de cada estado**."
      ],
      "metadata": {
        "id": "R8Fuw95QagRh"
      }
    },
    {
      "cell_type": "code",
      "source": [
        "casos['population'] = round(100000 * (casos['confirmed'] / casos['incident_rate']))\n",
        "casos = casos.drop('incident_rate', axis=1)"
      ],
      "metadata": {
        "id": "hTassblBbJX_"
      },
      "execution_count": null,
      "outputs": []
    },
    {
      "cell_type": "markdown",
      "source": [
        "Criação de colunas com **número de mortes e casos nas últimas 24 horas, média móvel de mortes e casos em 7 dias e estabilidade (14 dias)**, por estado."
      ],
      "metadata": {
        "id": "KOWRENiZctZF"
      }
    },
    {
      "cell_type": "code",
      "source": [
        "#criação das colunas confirmed_1d, confirmed_moving_avg_7d, confirmed_moving_avg_7d_rate_14d, confirmed_trend, deaths_1d, deaths_moving_avg_7d, deaths_moving_avg_7d_rate_14d,\n",
        "# e deaths_trend\n",
        "\n",
        "\n",
        "casos_ = None\n",
        "casos_vazio = True\n",
        "\n",
        "def get_trend(rate: float) -> str:\n",
        "\n",
        "  if np.isnan(rate):\n",
        "    return np.NaN\n",
        "\n",
        "  if rate < 0.75:\n",
        "    status = 'em baixa'\n",
        "  elif rate > 1.15:\n",
        "    status = 'em alta'\n",
        "  else:\n",
        "    status = 'estável'\n",
        "\n",
        "  return status\n",
        "\n",
        "for state in casos['state'].drop_duplicates():\n",
        "\n",
        "  cases_per_state = casos.query(f'state == \"{state}\"').reset_index(drop=True)\n",
        "  cases_per_state = cases_per_state.sort_values(by=['date'])\n",
        "\n",
        "  cases_per_state['confirmed_1d'] = cases_per_state['confirmed'].diff(periods=1)\n",
        "  cases_per_state['confirmed_moving_avg_7d'] = np.ceil(cases_per_state['confirmed_1d'].rolling(window=7).mean())\n",
        "  cases_per_state['confirmed_moving_avg_7d_rate_14d'] = cases_per_state['confirmed_moving_avg_7d'] / cases_per_state['confirmed_moving_avg_7d'].shift(periods=14)\n",
        "  cases_per_state['confirmed_trend'] = cases_per_state['confirmed_moving_avg_7d_rate_14d'].apply(get_trend)\n",
        "\n",
        "  cases_per_state['deaths_1d'] = cases_per_state['deaths'].diff(periods=1)\n",
        "  cases_per_state['deaths_moving_avg_7d'] = np.ceil(cases_per_state['deaths_1d'].rolling(window=7).mean())\n",
        "  cases_per_state['deaths_moving_avg_7d_rate_14d'] = cases_per_state['deaths_moving_avg_7d'] / cases_per_state['deaths_moving_avg_7d'].shift(periods=14)\n",
        "  cases_per_state['deaths_trend'] = cases_per_state['deaths_moving_avg_7d_rate_14d'].apply(get_trend)\n",
        "\n",
        "  if casos_vazio:\n",
        "    casos_ = cases_per_state\n",
        "    casos_vazio = False\n",
        "  else:\n",
        "    cases_ = casos_.append(cases_per_state, ignore_index=True)\n",
        "\n",
        "casos = cases_\n",
        "cases_ = None"
      ],
      "metadata": {
        "id": "SiPsX5J5dhss"
      },
      "execution_count": null,
      "outputs": []
    },
    {
      "cell_type": "markdown",
      "source": [
        "**Type casting das colunas:** vamos garantir que as novas colunas estejam com o tipo certo de dado para que não exista nenhum erro na hora da manipulação das informações."
      ],
      "metadata": {
        "id": "w7JGdu6KfWxK"
      }
    },
    {
      "cell_type": "code",
      "source": [
        "casos['population'] = casos['population'].astype('Int64')\n",
        "casos['confirmed_1d'] = casos['confirmed_1d'].astype('Int64')\n",
        "casos['confirmed_moving_avg_7d'] = casos['confirmed_moving_avg_7d'].astype('Int64')\n",
        "casos['deaths_1d'] = casos['deaths_1d'].astype('Int64')\n",
        "casos['deaths_moving_avg_7d'] = casos['deaths_moving_avg_7d'].astype('Int64')"
      ],
      "metadata": {
        "id": "HVDVKXl_fUfh"
      },
      "execution_count": null,
      "outputs": []
    },
    {
      "cell_type": "markdown",
      "source": [
        "Por fim, vamos estabelecer a **ordem das colunas** para facilitar a visualização das informações no dataframe finalizado."
      ],
      "metadata": {
        "id": "2Qp-MVlIf_9Y"
      }
    },
    {
      "cell_type": "code",
      "source": [
        "casos = casos[['date', 'country', 'state', 'population', 'confirmed', 'confirmed_1d', 'confirmed_moving_avg_7d', 'confirmed_moving_avg_7d_rate_14d',\n",
        "               'confirmed_trend', 'deaths', 'deaths_1d', 'deaths_moving_avg_7d', 'deaths_moving_avg_7d_rate_14d', 'deaths_trend', 'month', 'year']]"
      ],
      "metadata": {
        "id": "tOY8nAQJgS4H"
      },
      "execution_count": null,
      "outputs": []
    },
    {
      "cell_type": "code",
      "source": [
        "casos.head(25)"
      ],
      "metadata": {
        "colab": {
          "base_uri": "https://localhost:8080/",
          "height": 1000
        },
        "id": "ZlO9bcTIjNGi",
        "outputId": "97e50985-df84-460a-b1ac-1fac77bb19e4"
      },
      "execution_count": null,
      "outputs": [
        {
          "output_type": "execute_result",
          "data": {
            "text/plain": [
              "         date country state  population  confirmed  confirmed_1d  \\\n",
              "0  2021-01-01  Brazil  Acre      881935      41689          <NA>   \n",
              "1  2021-01-02  Brazil  Acre      881935      41941           252   \n",
              "2  2021-01-03  Brazil  Acre      881935      42046           105   \n",
              "3  2021-01-04  Brazil  Acre      881935      42117            71   \n",
              "4  2021-01-05  Brazil  Acre      881935      42170            53   \n",
              "5  2021-01-06  Brazil  Acre      881935      42378           208   \n",
              "6  2021-01-07  Brazil  Acre      881935      42478           100   \n",
              "7  2021-01-08  Brazil  Acre      881935      42814           336   \n",
              "8  2021-01-09  Brazil  Acre      881935      42908            94   \n",
              "9  2021-01-10  Brazil  Acre      881935      43127           219   \n",
              "10 2021-01-11  Brazil  Acre      881935      43346           219   \n",
              "11 2021-01-12  Brazil  Acre      881935      43432            86   \n",
              "12 2021-01-13  Brazil  Acre      881935      43785           353   \n",
              "13 2021-01-14  Brazil  Acre      881935      44068           283   \n",
              "14 2021-01-15  Brazil  Acre      881935      44156            88   \n",
              "15 2021-01-16  Brazil  Acre      881935      44621           465   \n",
              "16 2021-01-17  Brazil  Acre      881935      44767           146   \n",
              "17 2021-01-18  Brazil  Acre      881935      44775             8   \n",
              "18 2021-01-19  Brazil  Acre      881935      45208           433   \n",
              "19 2021-01-20  Brazil  Acre      881935      45429           221   \n",
              "20 2021-01-21  Brazil  Acre      881935      45729           300   \n",
              "21 2021-01-22  Brazil  Acre      881935      45987           258   \n",
              "22 2021-01-23  Brazil  Acre      881935      46239           252   \n",
              "23 2021-01-24  Brazil  Acre      881935      46429           190   \n",
              "24 2021-01-25  Brazil  Acre      881935      46539           110   \n",
              "\n",
              "    confirmed_moving_avg_7d  confirmed_moving_avg_7d_rate_14d confirmed_trend  \\\n",
              "0                      <NA>                               NaN             NaN   \n",
              "1                      <NA>                               NaN             NaN   \n",
              "2                      <NA>                               NaN             NaN   \n",
              "3                      <NA>                               NaN             NaN   \n",
              "4                      <NA>                               NaN             NaN   \n",
              "5                      <NA>                               NaN             NaN   \n",
              "6                      <NA>                               NaN             NaN   \n",
              "7                       161                               NaN             NaN   \n",
              "8                       139                               NaN             NaN   \n",
              "9                       155                               NaN             NaN   \n",
              "10                      176                               NaN             NaN   \n",
              "11                      181                               NaN             NaN   \n",
              "12                      201                               NaN             NaN   \n",
              "13                      228                               NaN             NaN   \n",
              "14                      192                               NaN             NaN   \n",
              "15                      245                               NaN             NaN   \n",
              "16                      235                               NaN             NaN   \n",
              "17                      205                               NaN             NaN   \n",
              "18                      254                               NaN             NaN   \n",
              "19                      235                               NaN             NaN   \n",
              "20                      238                               NaN             NaN   \n",
              "21                      262                          1.627329         em alta   \n",
              "22                      232                          1.669065         em alta   \n",
              "23                      238                          1.535484         em alta   \n",
              "24                      252                          1.431818         em alta   \n",
              "\n",
              "    deaths  deaths_1d  deaths_moving_avg_7d  deaths_moving_avg_7d_rate_14d  \\\n",
              "0      796       <NA>                  <NA>                            NaN   \n",
              "1      798          2                  <NA>                            NaN   \n",
              "2      802          4                  <NA>                            NaN   \n",
              "3      806          4                  <NA>                            NaN   \n",
              "4      808          2                  <NA>                            NaN   \n",
              "5      814          6                  <NA>                            NaN   \n",
              "6      821          7                  <NA>                            NaN   \n",
              "7      823          2                     4                            NaN   \n",
              "8      823          0                     4                            NaN   \n",
              "9      825          2                     4                            NaN   \n",
              "10     826          1                     3                            NaN   \n",
              "11     827          1                     3                            NaN   \n",
              "12     829          2                     3                            NaN   \n",
              "13     832          3                     2                            NaN   \n",
              "14     835          3                     2                            NaN   \n",
              "15     835          0                     2                            NaN   \n",
              "16     836          1                     2                            NaN   \n",
              "17     837          1                     2                            NaN   \n",
              "18     839          2                     2                            NaN   \n",
              "19     840          1                     2                            NaN   \n",
              "20     844          4                     2                            NaN   \n",
              "21     846          2                     2                            0.5   \n",
              "22     848          2                     2                            0.5   \n",
              "23     850          2                     2                            0.5   \n",
              "24     854          4                     3                            1.0   \n",
              "\n",
              "   deaths_trend    month  year  \n",
              "0           NaN  2021-01  2021  \n",
              "1           NaN  2021-01  2021  \n",
              "2           NaN  2021-01  2021  \n",
              "3           NaN  2021-01  2021  \n",
              "4           NaN  2021-01  2021  \n",
              "5           NaN  2021-01  2021  \n",
              "6           NaN  2021-01  2021  \n",
              "7           NaN  2021-01  2021  \n",
              "8           NaN  2021-01  2021  \n",
              "9           NaN  2021-01  2021  \n",
              "10          NaN  2021-01  2021  \n",
              "11          NaN  2021-01  2021  \n",
              "12          NaN  2021-01  2021  \n",
              "13          NaN  2021-01  2021  \n",
              "14          NaN  2021-01  2021  \n",
              "15          NaN  2021-01  2021  \n",
              "16          NaN  2021-01  2021  \n",
              "17          NaN  2021-01  2021  \n",
              "18          NaN  2021-01  2021  \n",
              "19          NaN  2021-01  2021  \n",
              "20          NaN  2021-01  2021  \n",
              "21     em baixa  2021-01  2021  \n",
              "22     em baixa  2021-01  2021  \n",
              "23     em baixa  2021-01  2021  \n",
              "24      estável  2021-01  2021  "
            ],
            "text/html": [
              "\n",
              "  <div id=\"df-4d26b889-3b12-4613-a381-58a2c8056d54\">\n",
              "    <div class=\"colab-df-container\">\n",
              "      <div>\n",
              "<style scoped>\n",
              "    .dataframe tbody tr th:only-of-type {\n",
              "        vertical-align: middle;\n",
              "    }\n",
              "\n",
              "    .dataframe tbody tr th {\n",
              "        vertical-align: top;\n",
              "    }\n",
              "\n",
              "    .dataframe thead th {\n",
              "        text-align: right;\n",
              "    }\n",
              "</style>\n",
              "<table border=\"1\" class=\"dataframe\">\n",
              "  <thead>\n",
              "    <tr style=\"text-align: right;\">\n",
              "      <th></th>\n",
              "      <th>date</th>\n",
              "      <th>country</th>\n",
              "      <th>state</th>\n",
              "      <th>population</th>\n",
              "      <th>confirmed</th>\n",
              "      <th>confirmed_1d</th>\n",
              "      <th>confirmed_moving_avg_7d</th>\n",
              "      <th>confirmed_moving_avg_7d_rate_14d</th>\n",
              "      <th>confirmed_trend</th>\n",
              "      <th>deaths</th>\n",
              "      <th>deaths_1d</th>\n",
              "      <th>deaths_moving_avg_7d</th>\n",
              "      <th>deaths_moving_avg_7d_rate_14d</th>\n",
              "      <th>deaths_trend</th>\n",
              "      <th>month</th>\n",
              "      <th>year</th>\n",
              "    </tr>\n",
              "  </thead>\n",
              "  <tbody>\n",
              "    <tr>\n",
              "      <th>0</th>\n",
              "      <td>2021-01-01</td>\n",
              "      <td>Brazil</td>\n",
              "      <td>Acre</td>\n",
              "      <td>881935</td>\n",
              "      <td>41689</td>\n",
              "      <td>&lt;NA&gt;</td>\n",
              "      <td>&lt;NA&gt;</td>\n",
              "      <td>NaN</td>\n",
              "      <td>NaN</td>\n",
              "      <td>796</td>\n",
              "      <td>&lt;NA&gt;</td>\n",
              "      <td>&lt;NA&gt;</td>\n",
              "      <td>NaN</td>\n",
              "      <td>NaN</td>\n",
              "      <td>2021-01</td>\n",
              "      <td>2021</td>\n",
              "    </tr>\n",
              "    <tr>\n",
              "      <th>1</th>\n",
              "      <td>2021-01-02</td>\n",
              "      <td>Brazil</td>\n",
              "      <td>Acre</td>\n",
              "      <td>881935</td>\n",
              "      <td>41941</td>\n",
              "      <td>252</td>\n",
              "      <td>&lt;NA&gt;</td>\n",
              "      <td>NaN</td>\n",
              "      <td>NaN</td>\n",
              "      <td>798</td>\n",
              "      <td>2</td>\n",
              "      <td>&lt;NA&gt;</td>\n",
              "      <td>NaN</td>\n",
              "      <td>NaN</td>\n",
              "      <td>2021-01</td>\n",
              "      <td>2021</td>\n",
              "    </tr>\n",
              "    <tr>\n",
              "      <th>2</th>\n",
              "      <td>2021-01-03</td>\n",
              "      <td>Brazil</td>\n",
              "      <td>Acre</td>\n",
              "      <td>881935</td>\n",
              "      <td>42046</td>\n",
              "      <td>105</td>\n",
              "      <td>&lt;NA&gt;</td>\n",
              "      <td>NaN</td>\n",
              "      <td>NaN</td>\n",
              "      <td>802</td>\n",
              "      <td>4</td>\n",
              "      <td>&lt;NA&gt;</td>\n",
              "      <td>NaN</td>\n",
              "      <td>NaN</td>\n",
              "      <td>2021-01</td>\n",
              "      <td>2021</td>\n",
              "    </tr>\n",
              "    <tr>\n",
              "      <th>3</th>\n",
              "      <td>2021-01-04</td>\n",
              "      <td>Brazil</td>\n",
              "      <td>Acre</td>\n",
              "      <td>881935</td>\n",
              "      <td>42117</td>\n",
              "      <td>71</td>\n",
              "      <td>&lt;NA&gt;</td>\n",
              "      <td>NaN</td>\n",
              "      <td>NaN</td>\n",
              "      <td>806</td>\n",
              "      <td>4</td>\n",
              "      <td>&lt;NA&gt;</td>\n",
              "      <td>NaN</td>\n",
              "      <td>NaN</td>\n",
              "      <td>2021-01</td>\n",
              "      <td>2021</td>\n",
              "    </tr>\n",
              "    <tr>\n",
              "      <th>4</th>\n",
              "      <td>2021-01-05</td>\n",
              "      <td>Brazil</td>\n",
              "      <td>Acre</td>\n",
              "      <td>881935</td>\n",
              "      <td>42170</td>\n",
              "      <td>53</td>\n",
              "      <td>&lt;NA&gt;</td>\n",
              "      <td>NaN</td>\n",
              "      <td>NaN</td>\n",
              "      <td>808</td>\n",
              "      <td>2</td>\n",
              "      <td>&lt;NA&gt;</td>\n",
              "      <td>NaN</td>\n",
              "      <td>NaN</td>\n",
              "      <td>2021-01</td>\n",
              "      <td>2021</td>\n",
              "    </tr>\n",
              "    <tr>\n",
              "      <th>5</th>\n",
              "      <td>2021-01-06</td>\n",
              "      <td>Brazil</td>\n",
              "      <td>Acre</td>\n",
              "      <td>881935</td>\n",
              "      <td>42378</td>\n",
              "      <td>208</td>\n",
              "      <td>&lt;NA&gt;</td>\n",
              "      <td>NaN</td>\n",
              "      <td>NaN</td>\n",
              "      <td>814</td>\n",
              "      <td>6</td>\n",
              "      <td>&lt;NA&gt;</td>\n",
              "      <td>NaN</td>\n",
              "      <td>NaN</td>\n",
              "      <td>2021-01</td>\n",
              "      <td>2021</td>\n",
              "    </tr>\n",
              "    <tr>\n",
              "      <th>6</th>\n",
              "      <td>2021-01-07</td>\n",
              "      <td>Brazil</td>\n",
              "      <td>Acre</td>\n",
              "      <td>881935</td>\n",
              "      <td>42478</td>\n",
              "      <td>100</td>\n",
              "      <td>&lt;NA&gt;</td>\n",
              "      <td>NaN</td>\n",
              "      <td>NaN</td>\n",
              "      <td>821</td>\n",
              "      <td>7</td>\n",
              "      <td>&lt;NA&gt;</td>\n",
              "      <td>NaN</td>\n",
              "      <td>NaN</td>\n",
              "      <td>2021-01</td>\n",
              "      <td>2021</td>\n",
              "    </tr>\n",
              "    <tr>\n",
              "      <th>7</th>\n",
              "      <td>2021-01-08</td>\n",
              "      <td>Brazil</td>\n",
              "      <td>Acre</td>\n",
              "      <td>881935</td>\n",
              "      <td>42814</td>\n",
              "      <td>336</td>\n",
              "      <td>161</td>\n",
              "      <td>NaN</td>\n",
              "      <td>NaN</td>\n",
              "      <td>823</td>\n",
              "      <td>2</td>\n",
              "      <td>4</td>\n",
              "      <td>NaN</td>\n",
              "      <td>NaN</td>\n",
              "      <td>2021-01</td>\n",
              "      <td>2021</td>\n",
              "    </tr>\n",
              "    <tr>\n",
              "      <th>8</th>\n",
              "      <td>2021-01-09</td>\n",
              "      <td>Brazil</td>\n",
              "      <td>Acre</td>\n",
              "      <td>881935</td>\n",
              "      <td>42908</td>\n",
              "      <td>94</td>\n",
              "      <td>139</td>\n",
              "      <td>NaN</td>\n",
              "      <td>NaN</td>\n",
              "      <td>823</td>\n",
              "      <td>0</td>\n",
              "      <td>4</td>\n",
              "      <td>NaN</td>\n",
              "      <td>NaN</td>\n",
              "      <td>2021-01</td>\n",
              "      <td>2021</td>\n",
              "    </tr>\n",
              "    <tr>\n",
              "      <th>9</th>\n",
              "      <td>2021-01-10</td>\n",
              "      <td>Brazil</td>\n",
              "      <td>Acre</td>\n",
              "      <td>881935</td>\n",
              "      <td>43127</td>\n",
              "      <td>219</td>\n",
              "      <td>155</td>\n",
              "      <td>NaN</td>\n",
              "      <td>NaN</td>\n",
              "      <td>825</td>\n",
              "      <td>2</td>\n",
              "      <td>4</td>\n",
              "      <td>NaN</td>\n",
              "      <td>NaN</td>\n",
              "      <td>2021-01</td>\n",
              "      <td>2021</td>\n",
              "    </tr>\n",
              "    <tr>\n",
              "      <th>10</th>\n",
              "      <td>2021-01-11</td>\n",
              "      <td>Brazil</td>\n",
              "      <td>Acre</td>\n",
              "      <td>881935</td>\n",
              "      <td>43346</td>\n",
              "      <td>219</td>\n",
              "      <td>176</td>\n",
              "      <td>NaN</td>\n",
              "      <td>NaN</td>\n",
              "      <td>826</td>\n",
              "      <td>1</td>\n",
              "      <td>3</td>\n",
              "      <td>NaN</td>\n",
              "      <td>NaN</td>\n",
              "      <td>2021-01</td>\n",
              "      <td>2021</td>\n",
              "    </tr>\n",
              "    <tr>\n",
              "      <th>11</th>\n",
              "      <td>2021-01-12</td>\n",
              "      <td>Brazil</td>\n",
              "      <td>Acre</td>\n",
              "      <td>881935</td>\n",
              "      <td>43432</td>\n",
              "      <td>86</td>\n",
              "      <td>181</td>\n",
              "      <td>NaN</td>\n",
              "      <td>NaN</td>\n",
              "      <td>827</td>\n",
              "      <td>1</td>\n",
              "      <td>3</td>\n",
              "      <td>NaN</td>\n",
              "      <td>NaN</td>\n",
              "      <td>2021-01</td>\n",
              "      <td>2021</td>\n",
              "    </tr>\n",
              "    <tr>\n",
              "      <th>12</th>\n",
              "      <td>2021-01-13</td>\n",
              "      <td>Brazil</td>\n",
              "      <td>Acre</td>\n",
              "      <td>881935</td>\n",
              "      <td>43785</td>\n",
              "      <td>353</td>\n",
              "      <td>201</td>\n",
              "      <td>NaN</td>\n",
              "      <td>NaN</td>\n",
              "      <td>829</td>\n",
              "      <td>2</td>\n",
              "      <td>3</td>\n",
              "      <td>NaN</td>\n",
              "      <td>NaN</td>\n",
              "      <td>2021-01</td>\n",
              "      <td>2021</td>\n",
              "    </tr>\n",
              "    <tr>\n",
              "      <th>13</th>\n",
              "      <td>2021-01-14</td>\n",
              "      <td>Brazil</td>\n",
              "      <td>Acre</td>\n",
              "      <td>881935</td>\n",
              "      <td>44068</td>\n",
              "      <td>283</td>\n",
              "      <td>228</td>\n",
              "      <td>NaN</td>\n",
              "      <td>NaN</td>\n",
              "      <td>832</td>\n",
              "      <td>3</td>\n",
              "      <td>2</td>\n",
              "      <td>NaN</td>\n",
              "      <td>NaN</td>\n",
              "      <td>2021-01</td>\n",
              "      <td>2021</td>\n",
              "    </tr>\n",
              "    <tr>\n",
              "      <th>14</th>\n",
              "      <td>2021-01-15</td>\n",
              "      <td>Brazil</td>\n",
              "      <td>Acre</td>\n",
              "      <td>881935</td>\n",
              "      <td>44156</td>\n",
              "      <td>88</td>\n",
              "      <td>192</td>\n",
              "      <td>NaN</td>\n",
              "      <td>NaN</td>\n",
              "      <td>835</td>\n",
              "      <td>3</td>\n",
              "      <td>2</td>\n",
              "      <td>NaN</td>\n",
              "      <td>NaN</td>\n",
              "      <td>2021-01</td>\n",
              "      <td>2021</td>\n",
              "    </tr>\n",
              "    <tr>\n",
              "      <th>15</th>\n",
              "      <td>2021-01-16</td>\n",
              "      <td>Brazil</td>\n",
              "      <td>Acre</td>\n",
              "      <td>881935</td>\n",
              "      <td>44621</td>\n",
              "      <td>465</td>\n",
              "      <td>245</td>\n",
              "      <td>NaN</td>\n",
              "      <td>NaN</td>\n",
              "      <td>835</td>\n",
              "      <td>0</td>\n",
              "      <td>2</td>\n",
              "      <td>NaN</td>\n",
              "      <td>NaN</td>\n",
              "      <td>2021-01</td>\n",
              "      <td>2021</td>\n",
              "    </tr>\n",
              "    <tr>\n",
              "      <th>16</th>\n",
              "      <td>2021-01-17</td>\n",
              "      <td>Brazil</td>\n",
              "      <td>Acre</td>\n",
              "      <td>881935</td>\n",
              "      <td>44767</td>\n",
              "      <td>146</td>\n",
              "      <td>235</td>\n",
              "      <td>NaN</td>\n",
              "      <td>NaN</td>\n",
              "      <td>836</td>\n",
              "      <td>1</td>\n",
              "      <td>2</td>\n",
              "      <td>NaN</td>\n",
              "      <td>NaN</td>\n",
              "      <td>2021-01</td>\n",
              "      <td>2021</td>\n",
              "    </tr>\n",
              "    <tr>\n",
              "      <th>17</th>\n",
              "      <td>2021-01-18</td>\n",
              "      <td>Brazil</td>\n",
              "      <td>Acre</td>\n",
              "      <td>881935</td>\n",
              "      <td>44775</td>\n",
              "      <td>8</td>\n",
              "      <td>205</td>\n",
              "      <td>NaN</td>\n",
              "      <td>NaN</td>\n",
              "      <td>837</td>\n",
              "      <td>1</td>\n",
              "      <td>2</td>\n",
              "      <td>NaN</td>\n",
              "      <td>NaN</td>\n",
              "      <td>2021-01</td>\n",
              "      <td>2021</td>\n",
              "    </tr>\n",
              "    <tr>\n",
              "      <th>18</th>\n",
              "      <td>2021-01-19</td>\n",
              "      <td>Brazil</td>\n",
              "      <td>Acre</td>\n",
              "      <td>881935</td>\n",
              "      <td>45208</td>\n",
              "      <td>433</td>\n",
              "      <td>254</td>\n",
              "      <td>NaN</td>\n",
              "      <td>NaN</td>\n",
              "      <td>839</td>\n",
              "      <td>2</td>\n",
              "      <td>2</td>\n",
              "      <td>NaN</td>\n",
              "      <td>NaN</td>\n",
              "      <td>2021-01</td>\n",
              "      <td>2021</td>\n",
              "    </tr>\n",
              "    <tr>\n",
              "      <th>19</th>\n",
              "      <td>2021-01-20</td>\n",
              "      <td>Brazil</td>\n",
              "      <td>Acre</td>\n",
              "      <td>881935</td>\n",
              "      <td>45429</td>\n",
              "      <td>221</td>\n",
              "      <td>235</td>\n",
              "      <td>NaN</td>\n",
              "      <td>NaN</td>\n",
              "      <td>840</td>\n",
              "      <td>1</td>\n",
              "      <td>2</td>\n",
              "      <td>NaN</td>\n",
              "      <td>NaN</td>\n",
              "      <td>2021-01</td>\n",
              "      <td>2021</td>\n",
              "    </tr>\n",
              "    <tr>\n",
              "      <th>20</th>\n",
              "      <td>2021-01-21</td>\n",
              "      <td>Brazil</td>\n",
              "      <td>Acre</td>\n",
              "      <td>881935</td>\n",
              "      <td>45729</td>\n",
              "      <td>300</td>\n",
              "      <td>238</td>\n",
              "      <td>NaN</td>\n",
              "      <td>NaN</td>\n",
              "      <td>844</td>\n",
              "      <td>4</td>\n",
              "      <td>2</td>\n",
              "      <td>NaN</td>\n",
              "      <td>NaN</td>\n",
              "      <td>2021-01</td>\n",
              "      <td>2021</td>\n",
              "    </tr>\n",
              "    <tr>\n",
              "      <th>21</th>\n",
              "      <td>2021-01-22</td>\n",
              "      <td>Brazil</td>\n",
              "      <td>Acre</td>\n",
              "      <td>881935</td>\n",
              "      <td>45987</td>\n",
              "      <td>258</td>\n",
              "      <td>262</td>\n",
              "      <td>1.627329</td>\n",
              "      <td>em alta</td>\n",
              "      <td>846</td>\n",
              "      <td>2</td>\n",
              "      <td>2</td>\n",
              "      <td>0.5</td>\n",
              "      <td>em baixa</td>\n",
              "      <td>2021-01</td>\n",
              "      <td>2021</td>\n",
              "    </tr>\n",
              "    <tr>\n",
              "      <th>22</th>\n",
              "      <td>2021-01-23</td>\n",
              "      <td>Brazil</td>\n",
              "      <td>Acre</td>\n",
              "      <td>881935</td>\n",
              "      <td>46239</td>\n",
              "      <td>252</td>\n",
              "      <td>232</td>\n",
              "      <td>1.669065</td>\n",
              "      <td>em alta</td>\n",
              "      <td>848</td>\n",
              "      <td>2</td>\n",
              "      <td>2</td>\n",
              "      <td>0.5</td>\n",
              "      <td>em baixa</td>\n",
              "      <td>2021-01</td>\n",
              "      <td>2021</td>\n",
              "    </tr>\n",
              "    <tr>\n",
              "      <th>23</th>\n",
              "      <td>2021-01-24</td>\n",
              "      <td>Brazil</td>\n",
              "      <td>Acre</td>\n",
              "      <td>881935</td>\n",
              "      <td>46429</td>\n",
              "      <td>190</td>\n",
              "      <td>238</td>\n",
              "      <td>1.535484</td>\n",
              "      <td>em alta</td>\n",
              "      <td>850</td>\n",
              "      <td>2</td>\n",
              "      <td>2</td>\n",
              "      <td>0.5</td>\n",
              "      <td>em baixa</td>\n",
              "      <td>2021-01</td>\n",
              "      <td>2021</td>\n",
              "    </tr>\n",
              "    <tr>\n",
              "      <th>24</th>\n",
              "      <td>2021-01-25</td>\n",
              "      <td>Brazil</td>\n",
              "      <td>Acre</td>\n",
              "      <td>881935</td>\n",
              "      <td>46539</td>\n",
              "      <td>110</td>\n",
              "      <td>252</td>\n",
              "      <td>1.431818</td>\n",
              "      <td>em alta</td>\n",
              "      <td>854</td>\n",
              "      <td>4</td>\n",
              "      <td>3</td>\n",
              "      <td>1.0</td>\n",
              "      <td>estável</td>\n",
              "      <td>2021-01</td>\n",
              "      <td>2021</td>\n",
              "    </tr>\n",
              "  </tbody>\n",
              "</table>\n",
              "</div>\n",
              "      <button class=\"colab-df-convert\" onclick=\"convertToInteractive('df-4d26b889-3b12-4613-a381-58a2c8056d54')\"\n",
              "              title=\"Convert this dataframe to an interactive table.\"\n",
              "              style=\"display:none;\">\n",
              "        \n",
              "  <svg xmlns=\"http://www.w3.org/2000/svg\" height=\"24px\"viewBox=\"0 0 24 24\"\n",
              "       width=\"24px\">\n",
              "    <path d=\"M0 0h24v24H0V0z\" fill=\"none\"/>\n",
              "    <path d=\"M18.56 5.44l.94 2.06.94-2.06 2.06-.94-2.06-.94-.94-2.06-.94 2.06-2.06.94zm-11 1L8.5 8.5l.94-2.06 2.06-.94-2.06-.94L8.5 2.5l-.94 2.06-2.06.94zm10 10l.94 2.06.94-2.06 2.06-.94-2.06-.94-.94-2.06-.94 2.06-2.06.94z\"/><path d=\"M17.41 7.96l-1.37-1.37c-.4-.4-.92-.59-1.43-.59-.52 0-1.04.2-1.43.59L10.3 9.45l-7.72 7.72c-.78.78-.78 2.05 0 2.83L4 21.41c.39.39.9.59 1.41.59.51 0 1.02-.2 1.41-.59l7.78-7.78 2.81-2.81c.8-.78.8-2.07 0-2.86zM5.41 20L4 18.59l7.72-7.72 1.47 1.35L5.41 20z\"/>\n",
              "  </svg>\n",
              "      </button>\n",
              "      \n",
              "  <style>\n",
              "    .colab-df-container {\n",
              "      display:flex;\n",
              "      flex-wrap:wrap;\n",
              "      gap: 12px;\n",
              "    }\n",
              "\n",
              "    .colab-df-convert {\n",
              "      background-color: #E8F0FE;\n",
              "      border: none;\n",
              "      border-radius: 50%;\n",
              "      cursor: pointer;\n",
              "      display: none;\n",
              "      fill: #1967D2;\n",
              "      height: 32px;\n",
              "      padding: 0 0 0 0;\n",
              "      width: 32px;\n",
              "    }\n",
              "\n",
              "    .colab-df-convert:hover {\n",
              "      background-color: #E2EBFA;\n",
              "      box-shadow: 0px 1px 2px rgba(60, 64, 67, 0.3), 0px 1px 3px 1px rgba(60, 64, 67, 0.15);\n",
              "      fill: #174EA6;\n",
              "    }\n",
              "\n",
              "    [theme=dark] .colab-df-convert {\n",
              "      background-color: #3B4455;\n",
              "      fill: #D2E3FC;\n",
              "    }\n",
              "\n",
              "    [theme=dark] .colab-df-convert:hover {\n",
              "      background-color: #434B5C;\n",
              "      box-shadow: 0px 1px 3px 1px rgba(0, 0, 0, 0.15);\n",
              "      filter: drop-shadow(0px 1px 2px rgba(0, 0, 0, 0.3));\n",
              "      fill: #FFFFFF;\n",
              "    }\n",
              "  </style>\n",
              "\n",
              "      <script>\n",
              "        const buttonEl =\n",
              "          document.querySelector('#df-4d26b889-3b12-4613-a381-58a2c8056d54 button.colab-df-convert');\n",
              "        buttonEl.style.display =\n",
              "          google.colab.kernel.accessAllowed ? 'block' : 'none';\n",
              "\n",
              "        async function convertToInteractive(key) {\n",
              "          const element = document.querySelector('#df-4d26b889-3b12-4613-a381-58a2c8056d54');\n",
              "          const dataTable =\n",
              "            await google.colab.kernel.invokeFunction('convertToInteractive',\n",
              "                                                     [key], {});\n",
              "          if (!dataTable) return;\n",
              "\n",
              "          const docLinkHtml = 'Like what you see? Visit the ' +\n",
              "            '<a target=\"_blank\" href=https://colab.research.google.com/notebooks/data_table.ipynb>data table notebook</a>'\n",
              "            + ' to learn more about interactive tables.';\n",
              "          element.innerHTML = '';\n",
              "          dataTable['output_type'] = 'display_data';\n",
              "          await google.colab.output.renderOutput(dataTable, element);\n",
              "          const docLink = document.createElement('div');\n",
              "          docLink.innerHTML = docLinkHtml;\n",
              "          element.appendChild(docLink);\n",
              "        }\n",
              "      </script>\n",
              "    </div>\n",
              "  </div>\n",
              "  "
            ]
          },
          "metadata": {},
          "execution_count": 19
        }
      ]
    },
    {
      "cell_type": "markdown",
      "source": [
        "###**2.1.3 Carregando os dados**"
      ],
      "metadata": {
        "id": "3G16z_aInqTj"
      }
    },
    {
      "cell_type": "markdown",
      "source": [
        "Com os dados de casos de COVID-19 editados e prontos, vamos gravá-los em disco como `arquivo csv` e posteriormente fazer o download para carregá-lo no **Google Data Studio**."
      ],
      "metadata": {
        "id": "3NCIbWbEoDOC"
      }
    },
    {
      "cell_type": "code",
      "source": [
        "casos.to_csv('./covid-casos.csv', sep=',', index=False)"
      ],
      "metadata": {
        "id": "0B4fb7oaoAXy"
      },
      "execution_count": null,
      "outputs": []
    },
    {
      "cell_type": "markdown",
      "source": [
        "## **2\\.2 Vacinação no Brasil** \n"
      ],
      "metadata": {
        "id": "08_JIOmQpGJ2"
      }
    },
    {
      "cell_type": "markdown",
      "source": [
        "Vamos seguir processando os dados, que agora são sobre **vacinação contra COVID-19 no Brasil**, as informações são provenientes de um banco de dados da universidade de Oxford. Ao contrário do outro dataset, os dados estão compilados em um arquivo."
      ],
      "metadata": {
        "id": "rbSJezGUpSLc"
      }
    },
    {
      "cell_type": "markdown",
      "source": [
        "###**2.2.1 Extração**"
      ],
      "metadata": {
        "id": "3PxpdYc0qXmp"
      }
    },
    {
      "cell_type": "code",
      "source": [
        "#leitura do arquivo\n",
        "\n",
        "vacinas = pd.read_csv('https://covid.ourworldindata.org/data/owid-covid-data.csv', sep=',', parse_dates=[3], infer_datetime_format=True)"
      ],
      "metadata": {
        "id": "bTxnx2lkqG7p"
      },
      "execution_count": null,
      "outputs": []
    },
    {
      "cell_type": "code",
      "source": [
        "vacinas.head()"
      ],
      "metadata": {
        "id": "YpEvpUXUqJ0-"
      },
      "execution_count": null,
      "outputs": []
    },
    {
      "cell_type": "markdown",
      "source": [
        "Vamos selecionar as **colunas de interesse** e as informações referentes ao **Brasil**."
      ],
      "metadata": {
        "id": "DjyfxcqhqN0b"
      }
    },
    {
      "cell_type": "code",
      "source": [
        "vacinas = vacinas.query('location == \"Brazil\"').reset_index(drop=True)\n",
        "vacinas = vacinas[['location', 'population', 'total_vaccinations', 'people_vaccinated', 'people_fully_vaccinated', 'total_boosters', 'date']]"
      ],
      "metadata": {
        "id": "1-mk09l1qqJ_"
      },
      "execution_count": null,
      "outputs": []
    },
    {
      "cell_type": "markdown",
      "source": [
        "###**2.2.2 Transformação**"
      ],
      "metadata": {
        "id": "JIGEr4Bpq3pF"
      }
    },
    {
      "cell_type": "markdown",
      "source": [
        "Vamos manejar as informações de forma a garantir uma boa granularidade e qualidade dos dados."
      ],
      "metadata": {
        "id": "dHDnaR2Lq7Ny"
      }
    },
    {
      "cell_type": "code",
      "source": [
        "vacinas.head()"
      ],
      "metadata": {
        "colab": {
          "base_uri": "https://localhost:8080/",
          "height": 206
        },
        "id": "AL7mRm6wrCf5",
        "outputId": "9427f27c-f0cb-4b62-c805-f0f91de4e65d"
      },
      "execution_count": null,
      "outputs": [
        {
          "output_type": "execute_result",
          "data": {
            "text/plain": [
              "  location   population  total_vaccinations  people_vaccinated  \\\n",
              "0   Brazil  213993441.0                 NaN                NaN   \n",
              "1   Brazil  213993441.0                 NaN                NaN   \n",
              "2   Brazil  213993441.0                 NaN                NaN   \n",
              "3   Brazil  213993441.0                 NaN                NaN   \n",
              "4   Brazil  213993441.0                 NaN                NaN   \n",
              "\n",
              "   people_fully_vaccinated  total_boosters       date  \n",
              "0                      NaN             NaN 2020-02-26  \n",
              "1                      NaN             NaN 2020-02-27  \n",
              "2                      NaN             NaN 2020-02-28  \n",
              "3                      NaN             NaN 2020-02-29  \n",
              "4                      NaN             NaN 2020-03-01  "
            ],
            "text/html": [
              "\n",
              "  <div id=\"df-78a473e8-ec82-4b97-ade7-9a8ae06bade2\">\n",
              "    <div class=\"colab-df-container\">\n",
              "      <div>\n",
              "<style scoped>\n",
              "    .dataframe tbody tr th:only-of-type {\n",
              "        vertical-align: middle;\n",
              "    }\n",
              "\n",
              "    .dataframe tbody tr th {\n",
              "        vertical-align: top;\n",
              "    }\n",
              "\n",
              "    .dataframe thead th {\n",
              "        text-align: right;\n",
              "    }\n",
              "</style>\n",
              "<table border=\"1\" class=\"dataframe\">\n",
              "  <thead>\n",
              "    <tr style=\"text-align: right;\">\n",
              "      <th></th>\n",
              "      <th>location</th>\n",
              "      <th>population</th>\n",
              "      <th>total_vaccinations</th>\n",
              "      <th>people_vaccinated</th>\n",
              "      <th>people_fully_vaccinated</th>\n",
              "      <th>total_boosters</th>\n",
              "      <th>date</th>\n",
              "    </tr>\n",
              "  </thead>\n",
              "  <tbody>\n",
              "    <tr>\n",
              "      <th>0</th>\n",
              "      <td>Brazil</td>\n",
              "      <td>213993441.0</td>\n",
              "      <td>NaN</td>\n",
              "      <td>NaN</td>\n",
              "      <td>NaN</td>\n",
              "      <td>NaN</td>\n",
              "      <td>2020-02-26</td>\n",
              "    </tr>\n",
              "    <tr>\n",
              "      <th>1</th>\n",
              "      <td>Brazil</td>\n",
              "      <td>213993441.0</td>\n",
              "      <td>NaN</td>\n",
              "      <td>NaN</td>\n",
              "      <td>NaN</td>\n",
              "      <td>NaN</td>\n",
              "      <td>2020-02-27</td>\n",
              "    </tr>\n",
              "    <tr>\n",
              "      <th>2</th>\n",
              "      <td>Brazil</td>\n",
              "      <td>213993441.0</td>\n",
              "      <td>NaN</td>\n",
              "      <td>NaN</td>\n",
              "      <td>NaN</td>\n",
              "      <td>NaN</td>\n",
              "      <td>2020-02-28</td>\n",
              "    </tr>\n",
              "    <tr>\n",
              "      <th>3</th>\n",
              "      <td>Brazil</td>\n",
              "      <td>213993441.0</td>\n",
              "      <td>NaN</td>\n",
              "      <td>NaN</td>\n",
              "      <td>NaN</td>\n",
              "      <td>NaN</td>\n",
              "      <td>2020-02-29</td>\n",
              "    </tr>\n",
              "    <tr>\n",
              "      <th>4</th>\n",
              "      <td>Brazil</td>\n",
              "      <td>213993441.0</td>\n",
              "      <td>NaN</td>\n",
              "      <td>NaN</td>\n",
              "      <td>NaN</td>\n",
              "      <td>NaN</td>\n",
              "      <td>2020-03-01</td>\n",
              "    </tr>\n",
              "  </tbody>\n",
              "</table>\n",
              "</div>\n",
              "      <button class=\"colab-df-convert\" onclick=\"convertToInteractive('df-78a473e8-ec82-4b97-ade7-9a8ae06bade2')\"\n",
              "              title=\"Convert this dataframe to an interactive table.\"\n",
              "              style=\"display:none;\">\n",
              "        \n",
              "  <svg xmlns=\"http://www.w3.org/2000/svg\" height=\"24px\"viewBox=\"0 0 24 24\"\n",
              "       width=\"24px\">\n",
              "    <path d=\"M0 0h24v24H0V0z\" fill=\"none\"/>\n",
              "    <path d=\"M18.56 5.44l.94 2.06.94-2.06 2.06-.94-2.06-.94-.94-2.06-.94 2.06-2.06.94zm-11 1L8.5 8.5l.94-2.06 2.06-.94-2.06-.94L8.5 2.5l-.94 2.06-2.06.94zm10 10l.94 2.06.94-2.06 2.06-.94-2.06-.94-.94-2.06-.94 2.06-2.06.94z\"/><path d=\"M17.41 7.96l-1.37-1.37c-.4-.4-.92-.59-1.43-.59-.52 0-1.04.2-1.43.59L10.3 9.45l-7.72 7.72c-.78.78-.78 2.05 0 2.83L4 21.41c.39.39.9.59 1.41.59.51 0 1.02-.2 1.41-.59l7.78-7.78 2.81-2.81c.8-.78.8-2.07 0-2.86zM5.41 20L4 18.59l7.72-7.72 1.47 1.35L5.41 20z\"/>\n",
              "  </svg>\n",
              "      </button>\n",
              "      \n",
              "  <style>\n",
              "    .colab-df-container {\n",
              "      display:flex;\n",
              "      flex-wrap:wrap;\n",
              "      gap: 12px;\n",
              "    }\n",
              "\n",
              "    .colab-df-convert {\n",
              "      background-color: #E8F0FE;\n",
              "      border: none;\n",
              "      border-radius: 50%;\n",
              "      cursor: pointer;\n",
              "      display: none;\n",
              "      fill: #1967D2;\n",
              "      height: 32px;\n",
              "      padding: 0 0 0 0;\n",
              "      width: 32px;\n",
              "    }\n",
              "\n",
              "    .colab-df-convert:hover {\n",
              "      background-color: #E2EBFA;\n",
              "      box-shadow: 0px 1px 2px rgba(60, 64, 67, 0.3), 0px 1px 3px 1px rgba(60, 64, 67, 0.15);\n",
              "      fill: #174EA6;\n",
              "    }\n",
              "\n",
              "    [theme=dark] .colab-df-convert {\n",
              "      background-color: #3B4455;\n",
              "      fill: #D2E3FC;\n",
              "    }\n",
              "\n",
              "    [theme=dark] .colab-df-convert:hover {\n",
              "      background-color: #434B5C;\n",
              "      box-shadow: 0px 1px 3px 1px rgba(0, 0, 0, 0.15);\n",
              "      filter: drop-shadow(0px 1px 2px rgba(0, 0, 0, 0.3));\n",
              "      fill: #FFFFFF;\n",
              "    }\n",
              "  </style>\n",
              "\n",
              "      <script>\n",
              "        const buttonEl =\n",
              "          document.querySelector('#df-78a473e8-ec82-4b97-ade7-9a8ae06bade2 button.colab-df-convert');\n",
              "        buttonEl.style.display =\n",
              "          google.colab.kernel.accessAllowed ? 'block' : 'none';\n",
              "\n",
              "        async function convertToInteractive(key) {\n",
              "          const element = document.querySelector('#df-78a473e8-ec82-4b97-ade7-9a8ae06bade2');\n",
              "          const dataTable =\n",
              "            await google.colab.kernel.invokeFunction('convertToInteractive',\n",
              "                                                     [key], {});\n",
              "          if (!dataTable) return;\n",
              "\n",
              "          const docLinkHtml = 'Like what you see? Visit the ' +\n",
              "            '<a target=\"_blank\" href=https://colab.research.google.com/notebooks/data_table.ipynb>data table notebook</a>'\n",
              "            + ' to learn more about interactive tables.';\n",
              "          element.innerHTML = '';\n",
              "          dataTable['output_type'] = 'display_data';\n",
              "          await google.colab.output.renderOutput(dataTable, element);\n",
              "          const docLink = document.createElement('div');\n",
              "          docLink.innerHTML = docLinkHtml;\n",
              "          element.appendChild(docLink);\n",
              "        }\n",
              "      </script>\n",
              "    </div>\n",
              "  </div>\n",
              "  "
            ]
          },
          "metadata": {},
          "execution_count": 24
        }
      ]
    },
    {
      "cell_type": "code",
      "source": [
        "#conferindo o número de linhas e colunas do dataframe\n",
        "\n",
        "vacinas.shape"
      ],
      "metadata": {
        "colab": {
          "base_uri": "https://localhost:8080/"
        },
        "id": "hwQo3oZSrF66",
        "outputId": "f4654eb1-d1ce-486d-ea24-78edf6ad2542"
      },
      "execution_count": null,
      "outputs": [
        {
          "output_type": "execute_result",
          "data": {
            "text/plain": [
              "(849, 7)"
            ]
          },
          "metadata": {},
          "execution_count": 25
        }
      ]
    },
    {
      "cell_type": "code",
      "source": [
        "#verificando as informações sobre o dataset\n",
        "\n",
        "vacinas.info()"
      ],
      "metadata": {
        "colab": {
          "base_uri": "https://localhost:8080/"
        },
        "id": "Pfr1ArVCrHG-",
        "outputId": "4a0941eb-7eff-4ef3-99f0-1cba486fc781"
      },
      "execution_count": null,
      "outputs": [
        {
          "output_type": "stream",
          "name": "stdout",
          "text": [
            "<class 'pandas.core.frame.DataFrame'>\n",
            "RangeIndex: 849 entries, 0 to 848\n",
            "Data columns (total 7 columns):\n",
            " #   Column                   Non-Null Count  Dtype         \n",
            "---  ------                   --------------  -----         \n",
            " 0   location                 849 non-null    object        \n",
            " 1   population               849 non-null    float64       \n",
            " 2   total_vaccinations       503 non-null    float64       \n",
            " 3   people_vaccinated        499 non-null    float64       \n",
            " 4   people_fully_vaccinated  483 non-null    float64       \n",
            " 5   total_boosters           275 non-null    float64       \n",
            " 6   date                     849 non-null    datetime64[ns]\n",
            "dtypes: datetime64[ns](1), float64(5), object(1)\n",
            "memory usage: 46.6+ KB\n"
          ]
        }
      ]
    },
    {
      "cell_type": "markdown",
      "source": [
        "Como observado acima, existem **dados nulos** no dataframe, portanto vamos começar tratando os valores ausentes substituindo-os com o valor anterior válido mais proximo."
      ],
      "metadata": {
        "id": "O26D6J9-rXJ8"
      }
    },
    {
      "cell_type": "code",
      "source": [
        "#utilizando o método ffill para preencher os valores ausentes\n",
        "\n",
        "vacinas = vacinas.fillna(method='ffill')"
      ],
      "metadata": {
        "id": "X1-EAO9hrtU4"
      },
      "execution_count": null,
      "outputs": []
    },
    {
      "cell_type": "markdown",
      "source": [
        "Vamos filtrar a base de dados de acordo com a coluna **`date`**, para que a granularidade dos dados seja a mesma nos dois arquivos."
      ],
      "metadata": {
        "id": "jEA26dbCr6ia"
      }
    },
    {
      "cell_type": "code",
      "source": [
        "vacinas = vacinas[(vacinas['date'] >= '2021-01-01') & (vacinas['date'] <= '2021-12-31')].reset_index(drop=True)"
      ],
      "metadata": {
        "id": "YAss9oYWsT_t"
      },
      "execution_count": null,
      "outputs": []
    },
    {
      "cell_type": "markdown",
      "source": [
        "Vamos alterar o nome de algumas colunas."
      ],
      "metadata": {
        "id": "CBjJL2JvsYZu"
      }
    },
    {
      "cell_type": "code",
      "source": [
        "vacinas = vacinas.rename(columns={\n",
        "    'location':'country',\n",
        "    'total_vaccinations':'total',\n",
        "    'people_vaccinated':'one_shot',\n",
        "    'people_fully_vaccinated':'two_shots',\n",
        "    'total_boosters':'three_shots',\n",
        "    \n",
        " }\n",
        ")"
      ],
      "metadata": {
        "id": "IVGXXYs7vISu"
      },
      "execution_count": null,
      "outputs": []
    },
    {
      "cell_type": "markdown",
      "source": [
        "Criação de duas novas colunas com **chaves temporais**."
      ],
      "metadata": {
        "id": "IawfGOWevKdh"
      }
    },
    {
      "cell_type": "code",
      "source": [
        "#criação das colunas 'month' e 'year'\n",
        "\n",
        "vacinas['month'] = vacinas['date'].apply(lambda date: date.strftime('%Y-%m'))\n",
        "vacinas['year'] = vacinas['date'].apply(lambda date: date.strftime('%Y'))"
      ],
      "metadata": {
        "id": "wDPHe0NlvRVY"
      },
      "execution_count": null,
      "outputs": []
    },
    {
      "cell_type": "markdown",
      "source": [
        "Criação de três novas colunas com **percentual da população vacinada** com cada dose."
      ],
      "metadata": {
        "id": "T_sODeIAvXe6"
      }
    },
    {
      "cell_type": "code",
      "source": [
        "vacinas['one_shot_perc'] = round(vacinas['one_shot'] / vacinas['population'], 4)\n",
        "vacinas['two_shots_perc'] = round(vacinas['two_shots'] / vacinas['population'], 4)\n",
        "vacinas['three_shots_perc'] = round(vacinas['three_shots'] / vacinas['population'], 4)"
      ],
      "metadata": {
        "id": "d7TZR-rbvr7m"
      },
      "execution_count": null,
      "outputs": []
    },
    {
      "cell_type": "markdown",
      "source": [
        "**Type casting das colunas:** vamos garantir que as novas colunas estejam com o tipo certo de dado para que não exista nenhum erro na hora da manipulação das informações."
      ],
      "metadata": {
        "id": "2z7fDWATvzt_"
      }
    },
    {
      "cell_type": "code",
      "source": [
        "vacinas['population'] = vacinas['population'].astype('Int64')\n",
        "vacinas['total'] = vacinas['total'].astype('Int64')\n",
        "vacinas['one_shot'] = vacinas['one_shot'].astype('Int64')\n",
        "vacinas['two_shots'] = vacinas['two_shots'].astype('Int64')\n",
        "vacinas['three_shots'] = vacinas['three_shots'].astype('Int64')"
      ],
      "metadata": {
        "id": "R53QFgggvW9I"
      },
      "execution_count": null,
      "outputs": []
    },
    {
      "cell_type": "markdown",
      "source": [
        "Por fim, vamos estabelecer a **ordem das colunas** para facilitar a visualização das informações no dataframe finalizado."
      ],
      "metadata": {
        "id": "VmD7vseVwOfM"
      }
    },
    {
      "cell_type": "code",
      "source": [
        "vacinas = vacinas[['date', 'country', 'population', 'total', 'one_shot', 'one_shot_perc', 'two_shots', 'two_shots_perc', 'three_shots', 'three_shots_perc',\n",
        "                   'month', 'year']]"
      ],
      "metadata": {
        "id": "_maEXpzfwPeN"
      },
      "execution_count": null,
      "outputs": []
    },
    {
      "cell_type": "code",
      "source": [
        "vacinas.head()"
      ],
      "metadata": {
        "colab": {
          "base_uri": "https://localhost:8080/",
          "height": 250
        },
        "id": "zXcRNVNowSRG",
        "outputId": "24e4f1f7-6edc-4d3f-9322-a9d07a2b3885"
      },
      "execution_count": null,
      "outputs": [
        {
          "output_type": "execute_result",
          "data": {
            "text/plain": [
              "        date country  population  total  one_shot  one_shot_perc  two_shots  \\\n",
              "0 2021-01-01  Brazil   213993441   <NA>      <NA>            NaN       <NA>   \n",
              "1 2021-01-02  Brazil   213993441   <NA>      <NA>            NaN       <NA>   \n",
              "2 2021-01-03  Brazil   213993441   <NA>      <NA>            NaN       <NA>   \n",
              "3 2021-01-04  Brazil   213993441   <NA>      <NA>            NaN       <NA>   \n",
              "4 2021-01-05  Brazil   213993441   <NA>      <NA>            NaN       <NA>   \n",
              "\n",
              "   two_shots_perc  three_shots  three_shots_perc    month  year  \n",
              "0             NaN         <NA>               NaN  2021-01  2021  \n",
              "1             NaN         <NA>               NaN  2021-01  2021  \n",
              "2             NaN         <NA>               NaN  2021-01  2021  \n",
              "3             NaN         <NA>               NaN  2021-01  2021  \n",
              "4             NaN         <NA>               NaN  2021-01  2021  "
            ],
            "text/html": [
              "\n",
              "  <div id=\"df-36ad8ece-57a3-43e6-aeac-5a147e8b6ad6\">\n",
              "    <div class=\"colab-df-container\">\n",
              "      <div>\n",
              "<style scoped>\n",
              "    .dataframe tbody tr th:only-of-type {\n",
              "        vertical-align: middle;\n",
              "    }\n",
              "\n",
              "    .dataframe tbody tr th {\n",
              "        vertical-align: top;\n",
              "    }\n",
              "\n",
              "    .dataframe thead th {\n",
              "        text-align: right;\n",
              "    }\n",
              "</style>\n",
              "<table border=\"1\" class=\"dataframe\">\n",
              "  <thead>\n",
              "    <tr style=\"text-align: right;\">\n",
              "      <th></th>\n",
              "      <th>date</th>\n",
              "      <th>country</th>\n",
              "      <th>population</th>\n",
              "      <th>total</th>\n",
              "      <th>one_shot</th>\n",
              "      <th>one_shot_perc</th>\n",
              "      <th>two_shots</th>\n",
              "      <th>two_shots_perc</th>\n",
              "      <th>three_shots</th>\n",
              "      <th>three_shots_perc</th>\n",
              "      <th>month</th>\n",
              "      <th>year</th>\n",
              "    </tr>\n",
              "  </thead>\n",
              "  <tbody>\n",
              "    <tr>\n",
              "      <th>0</th>\n",
              "      <td>2021-01-01</td>\n",
              "      <td>Brazil</td>\n",
              "      <td>213993441</td>\n",
              "      <td>&lt;NA&gt;</td>\n",
              "      <td>&lt;NA&gt;</td>\n",
              "      <td>NaN</td>\n",
              "      <td>&lt;NA&gt;</td>\n",
              "      <td>NaN</td>\n",
              "      <td>&lt;NA&gt;</td>\n",
              "      <td>NaN</td>\n",
              "      <td>2021-01</td>\n",
              "      <td>2021</td>\n",
              "    </tr>\n",
              "    <tr>\n",
              "      <th>1</th>\n",
              "      <td>2021-01-02</td>\n",
              "      <td>Brazil</td>\n",
              "      <td>213993441</td>\n",
              "      <td>&lt;NA&gt;</td>\n",
              "      <td>&lt;NA&gt;</td>\n",
              "      <td>NaN</td>\n",
              "      <td>&lt;NA&gt;</td>\n",
              "      <td>NaN</td>\n",
              "      <td>&lt;NA&gt;</td>\n",
              "      <td>NaN</td>\n",
              "      <td>2021-01</td>\n",
              "      <td>2021</td>\n",
              "    </tr>\n",
              "    <tr>\n",
              "      <th>2</th>\n",
              "      <td>2021-01-03</td>\n",
              "      <td>Brazil</td>\n",
              "      <td>213993441</td>\n",
              "      <td>&lt;NA&gt;</td>\n",
              "      <td>&lt;NA&gt;</td>\n",
              "      <td>NaN</td>\n",
              "      <td>&lt;NA&gt;</td>\n",
              "      <td>NaN</td>\n",
              "      <td>&lt;NA&gt;</td>\n",
              "      <td>NaN</td>\n",
              "      <td>2021-01</td>\n",
              "      <td>2021</td>\n",
              "    </tr>\n",
              "    <tr>\n",
              "      <th>3</th>\n",
              "      <td>2021-01-04</td>\n",
              "      <td>Brazil</td>\n",
              "      <td>213993441</td>\n",
              "      <td>&lt;NA&gt;</td>\n",
              "      <td>&lt;NA&gt;</td>\n",
              "      <td>NaN</td>\n",
              "      <td>&lt;NA&gt;</td>\n",
              "      <td>NaN</td>\n",
              "      <td>&lt;NA&gt;</td>\n",
              "      <td>NaN</td>\n",
              "      <td>2021-01</td>\n",
              "      <td>2021</td>\n",
              "    </tr>\n",
              "    <tr>\n",
              "      <th>4</th>\n",
              "      <td>2021-01-05</td>\n",
              "      <td>Brazil</td>\n",
              "      <td>213993441</td>\n",
              "      <td>&lt;NA&gt;</td>\n",
              "      <td>&lt;NA&gt;</td>\n",
              "      <td>NaN</td>\n",
              "      <td>&lt;NA&gt;</td>\n",
              "      <td>NaN</td>\n",
              "      <td>&lt;NA&gt;</td>\n",
              "      <td>NaN</td>\n",
              "      <td>2021-01</td>\n",
              "      <td>2021</td>\n",
              "    </tr>\n",
              "  </tbody>\n",
              "</table>\n",
              "</div>\n",
              "      <button class=\"colab-df-convert\" onclick=\"convertToInteractive('df-36ad8ece-57a3-43e6-aeac-5a147e8b6ad6')\"\n",
              "              title=\"Convert this dataframe to an interactive table.\"\n",
              "              style=\"display:none;\">\n",
              "        \n",
              "  <svg xmlns=\"http://www.w3.org/2000/svg\" height=\"24px\"viewBox=\"0 0 24 24\"\n",
              "       width=\"24px\">\n",
              "    <path d=\"M0 0h24v24H0V0z\" fill=\"none\"/>\n",
              "    <path d=\"M18.56 5.44l.94 2.06.94-2.06 2.06-.94-2.06-.94-.94-2.06-.94 2.06-2.06.94zm-11 1L8.5 8.5l.94-2.06 2.06-.94-2.06-.94L8.5 2.5l-.94 2.06-2.06.94zm10 10l.94 2.06.94-2.06 2.06-.94-2.06-.94-.94-2.06-.94 2.06-2.06.94z\"/><path d=\"M17.41 7.96l-1.37-1.37c-.4-.4-.92-.59-1.43-.59-.52 0-1.04.2-1.43.59L10.3 9.45l-7.72 7.72c-.78.78-.78 2.05 0 2.83L4 21.41c.39.39.9.59 1.41.59.51 0 1.02-.2 1.41-.59l7.78-7.78 2.81-2.81c.8-.78.8-2.07 0-2.86zM5.41 20L4 18.59l7.72-7.72 1.47 1.35L5.41 20z\"/>\n",
              "  </svg>\n",
              "      </button>\n",
              "      \n",
              "  <style>\n",
              "    .colab-df-container {\n",
              "      display:flex;\n",
              "      flex-wrap:wrap;\n",
              "      gap: 12px;\n",
              "    }\n",
              "\n",
              "    .colab-df-convert {\n",
              "      background-color: #E8F0FE;\n",
              "      border: none;\n",
              "      border-radius: 50%;\n",
              "      cursor: pointer;\n",
              "      display: none;\n",
              "      fill: #1967D2;\n",
              "      height: 32px;\n",
              "      padding: 0 0 0 0;\n",
              "      width: 32px;\n",
              "    }\n",
              "\n",
              "    .colab-df-convert:hover {\n",
              "      background-color: #E2EBFA;\n",
              "      box-shadow: 0px 1px 2px rgba(60, 64, 67, 0.3), 0px 1px 3px 1px rgba(60, 64, 67, 0.15);\n",
              "      fill: #174EA6;\n",
              "    }\n",
              "\n",
              "    [theme=dark] .colab-df-convert {\n",
              "      background-color: #3B4455;\n",
              "      fill: #D2E3FC;\n",
              "    }\n",
              "\n",
              "    [theme=dark] .colab-df-convert:hover {\n",
              "      background-color: #434B5C;\n",
              "      box-shadow: 0px 1px 3px 1px rgba(0, 0, 0, 0.15);\n",
              "      filter: drop-shadow(0px 1px 2px rgba(0, 0, 0, 0.3));\n",
              "      fill: #FFFFFF;\n",
              "    }\n",
              "  </style>\n",
              "\n",
              "      <script>\n",
              "        const buttonEl =\n",
              "          document.querySelector('#df-36ad8ece-57a3-43e6-aeac-5a147e8b6ad6 button.colab-df-convert');\n",
              "        buttonEl.style.display =\n",
              "          google.colab.kernel.accessAllowed ? 'block' : 'none';\n",
              "\n",
              "        async function convertToInteractive(key) {\n",
              "          const element = document.querySelector('#df-36ad8ece-57a3-43e6-aeac-5a147e8b6ad6');\n",
              "          const dataTable =\n",
              "            await google.colab.kernel.invokeFunction('convertToInteractive',\n",
              "                                                     [key], {});\n",
              "          if (!dataTable) return;\n",
              "\n",
              "          const docLinkHtml = 'Like what you see? Visit the ' +\n",
              "            '<a target=\"_blank\" href=https://colab.research.google.com/notebooks/data_table.ipynb>data table notebook</a>'\n",
              "            + ' to learn more about interactive tables.';\n",
              "          element.innerHTML = '';\n",
              "          dataTable['output_type'] = 'display_data';\n",
              "          await google.colab.output.renderOutput(dataTable, element);\n",
              "          const docLink = document.createElement('div');\n",
              "          docLink.innerHTML = docLinkHtml;\n",
              "          element.appendChild(docLink);\n",
              "        }\n",
              "      </script>\n",
              "    </div>\n",
              "  </div>\n",
              "  "
            ]
          },
          "metadata": {},
          "execution_count": 34
        }
      ]
    },
    {
      "cell_type": "code",
      "source": [
        "vacinas.tail()"
      ],
      "metadata": {
        "colab": {
          "base_uri": "https://localhost:8080/",
          "height": 337
        },
        "id": "0rChUv3ewVZV",
        "outputId": "d2580816-c734-4dff-f172-a888a3e186b0"
      },
      "execution_count": null,
      "outputs": [
        {
          "output_type": "execute_result",
          "data": {
            "text/plain": [
              "          date country  population      total   one_shot  one_shot_perc  \\\n",
              "360 2021-12-27  Brazil   213993441  329011365  165952037         0.7755   \n",
              "361 2021-12-28  Brazil   213993441  329861730  166062249         0.7760   \n",
              "362 2021-12-29  Brazil   213993441  330718457  166143380         0.7764   \n",
              "363 2021-12-30  Brazil   213993441  331164041  166185628         0.7766   \n",
              "364 2021-12-31  Brazil   213993441  331273910  166195505         0.7766   \n",
              "\n",
              "     two_shots  two_shots_perc  three_shots  three_shots_perc    month  year  \n",
              "360  142764283          0.6671     25218893            0.1178  2021-12  2021  \n",
              "361  142965728          0.6681     25758909            0.1204  2021-12  2021  \n",
              "362  143282084          0.6696     26219623            0.1225  2021-12  2021  \n",
              "363  143398692          0.6701     26507937            0.1239  2021-12  2021  \n",
              "364  143436012          0.6703     26571077            0.1242  2021-12  2021  "
            ],
            "text/html": [
              "\n",
              "  <div id=\"df-8b463326-95c9-4ccc-ac31-c5aa6befe0ec\">\n",
              "    <div class=\"colab-df-container\">\n",
              "      <div>\n",
              "<style scoped>\n",
              "    .dataframe tbody tr th:only-of-type {\n",
              "        vertical-align: middle;\n",
              "    }\n",
              "\n",
              "    .dataframe tbody tr th {\n",
              "        vertical-align: top;\n",
              "    }\n",
              "\n",
              "    .dataframe thead th {\n",
              "        text-align: right;\n",
              "    }\n",
              "</style>\n",
              "<table border=\"1\" class=\"dataframe\">\n",
              "  <thead>\n",
              "    <tr style=\"text-align: right;\">\n",
              "      <th></th>\n",
              "      <th>date</th>\n",
              "      <th>country</th>\n",
              "      <th>population</th>\n",
              "      <th>total</th>\n",
              "      <th>one_shot</th>\n",
              "      <th>one_shot_perc</th>\n",
              "      <th>two_shots</th>\n",
              "      <th>two_shots_perc</th>\n",
              "      <th>three_shots</th>\n",
              "      <th>three_shots_perc</th>\n",
              "      <th>month</th>\n",
              "      <th>year</th>\n",
              "    </tr>\n",
              "  </thead>\n",
              "  <tbody>\n",
              "    <tr>\n",
              "      <th>360</th>\n",
              "      <td>2021-12-27</td>\n",
              "      <td>Brazil</td>\n",
              "      <td>213993441</td>\n",
              "      <td>329011365</td>\n",
              "      <td>165952037</td>\n",
              "      <td>0.7755</td>\n",
              "      <td>142764283</td>\n",
              "      <td>0.6671</td>\n",
              "      <td>25218893</td>\n",
              "      <td>0.1178</td>\n",
              "      <td>2021-12</td>\n",
              "      <td>2021</td>\n",
              "    </tr>\n",
              "    <tr>\n",
              "      <th>361</th>\n",
              "      <td>2021-12-28</td>\n",
              "      <td>Brazil</td>\n",
              "      <td>213993441</td>\n",
              "      <td>329861730</td>\n",
              "      <td>166062249</td>\n",
              "      <td>0.7760</td>\n",
              "      <td>142965728</td>\n",
              "      <td>0.6681</td>\n",
              "      <td>25758909</td>\n",
              "      <td>0.1204</td>\n",
              "      <td>2021-12</td>\n",
              "      <td>2021</td>\n",
              "    </tr>\n",
              "    <tr>\n",
              "      <th>362</th>\n",
              "      <td>2021-12-29</td>\n",
              "      <td>Brazil</td>\n",
              "      <td>213993441</td>\n",
              "      <td>330718457</td>\n",
              "      <td>166143380</td>\n",
              "      <td>0.7764</td>\n",
              "      <td>143282084</td>\n",
              "      <td>0.6696</td>\n",
              "      <td>26219623</td>\n",
              "      <td>0.1225</td>\n",
              "      <td>2021-12</td>\n",
              "      <td>2021</td>\n",
              "    </tr>\n",
              "    <tr>\n",
              "      <th>363</th>\n",
              "      <td>2021-12-30</td>\n",
              "      <td>Brazil</td>\n",
              "      <td>213993441</td>\n",
              "      <td>331164041</td>\n",
              "      <td>166185628</td>\n",
              "      <td>0.7766</td>\n",
              "      <td>143398692</td>\n",
              "      <td>0.6701</td>\n",
              "      <td>26507937</td>\n",
              "      <td>0.1239</td>\n",
              "      <td>2021-12</td>\n",
              "      <td>2021</td>\n",
              "    </tr>\n",
              "    <tr>\n",
              "      <th>364</th>\n",
              "      <td>2021-12-31</td>\n",
              "      <td>Brazil</td>\n",
              "      <td>213993441</td>\n",
              "      <td>331273910</td>\n",
              "      <td>166195505</td>\n",
              "      <td>0.7766</td>\n",
              "      <td>143436012</td>\n",
              "      <td>0.6703</td>\n",
              "      <td>26571077</td>\n",
              "      <td>0.1242</td>\n",
              "      <td>2021-12</td>\n",
              "      <td>2021</td>\n",
              "    </tr>\n",
              "  </tbody>\n",
              "</table>\n",
              "</div>\n",
              "      <button class=\"colab-df-convert\" onclick=\"convertToInteractive('df-8b463326-95c9-4ccc-ac31-c5aa6befe0ec')\"\n",
              "              title=\"Convert this dataframe to an interactive table.\"\n",
              "              style=\"display:none;\">\n",
              "        \n",
              "  <svg xmlns=\"http://www.w3.org/2000/svg\" height=\"24px\"viewBox=\"0 0 24 24\"\n",
              "       width=\"24px\">\n",
              "    <path d=\"M0 0h24v24H0V0z\" fill=\"none\"/>\n",
              "    <path d=\"M18.56 5.44l.94 2.06.94-2.06 2.06-.94-2.06-.94-.94-2.06-.94 2.06-2.06.94zm-11 1L8.5 8.5l.94-2.06 2.06-.94-2.06-.94L8.5 2.5l-.94 2.06-2.06.94zm10 10l.94 2.06.94-2.06 2.06-.94-2.06-.94-.94-2.06-.94 2.06-2.06.94z\"/><path d=\"M17.41 7.96l-1.37-1.37c-.4-.4-.92-.59-1.43-.59-.52 0-1.04.2-1.43.59L10.3 9.45l-7.72 7.72c-.78.78-.78 2.05 0 2.83L4 21.41c.39.39.9.59 1.41.59.51 0 1.02-.2 1.41-.59l7.78-7.78 2.81-2.81c.8-.78.8-2.07 0-2.86zM5.41 20L4 18.59l7.72-7.72 1.47 1.35L5.41 20z\"/>\n",
              "  </svg>\n",
              "      </button>\n",
              "      \n",
              "  <style>\n",
              "    .colab-df-container {\n",
              "      display:flex;\n",
              "      flex-wrap:wrap;\n",
              "      gap: 12px;\n",
              "    }\n",
              "\n",
              "    .colab-df-convert {\n",
              "      background-color: #E8F0FE;\n",
              "      border: none;\n",
              "      border-radius: 50%;\n",
              "      cursor: pointer;\n",
              "      display: none;\n",
              "      fill: #1967D2;\n",
              "      height: 32px;\n",
              "      padding: 0 0 0 0;\n",
              "      width: 32px;\n",
              "    }\n",
              "\n",
              "    .colab-df-convert:hover {\n",
              "      background-color: #E2EBFA;\n",
              "      box-shadow: 0px 1px 2px rgba(60, 64, 67, 0.3), 0px 1px 3px 1px rgba(60, 64, 67, 0.15);\n",
              "      fill: #174EA6;\n",
              "    }\n",
              "\n",
              "    [theme=dark] .colab-df-convert {\n",
              "      background-color: #3B4455;\n",
              "      fill: #D2E3FC;\n",
              "    }\n",
              "\n",
              "    [theme=dark] .colab-df-convert:hover {\n",
              "      background-color: #434B5C;\n",
              "      box-shadow: 0px 1px 3px 1px rgba(0, 0, 0, 0.15);\n",
              "      filter: drop-shadow(0px 1px 2px rgba(0, 0, 0, 0.3));\n",
              "      fill: #FFFFFF;\n",
              "    }\n",
              "  </style>\n",
              "\n",
              "      <script>\n",
              "        const buttonEl =\n",
              "          document.querySelector('#df-8b463326-95c9-4ccc-ac31-c5aa6befe0ec button.colab-df-convert');\n",
              "        buttonEl.style.display =\n",
              "          google.colab.kernel.accessAllowed ? 'block' : 'none';\n",
              "\n",
              "        async function convertToInteractive(key) {\n",
              "          const element = document.querySelector('#df-8b463326-95c9-4ccc-ac31-c5aa6befe0ec');\n",
              "          const dataTable =\n",
              "            await google.colab.kernel.invokeFunction('convertToInteractive',\n",
              "                                                     [key], {});\n",
              "          if (!dataTable) return;\n",
              "\n",
              "          const docLinkHtml = 'Like what you see? Visit the ' +\n",
              "            '<a target=\"_blank\" href=https://colab.research.google.com/notebooks/data_table.ipynb>data table notebook</a>'\n",
              "            + ' to learn more about interactive tables.';\n",
              "          element.innerHTML = '';\n",
              "          dataTable['output_type'] = 'display_data';\n",
              "          await google.colab.output.renderOutput(dataTable, element);\n",
              "          const docLink = document.createElement('div');\n",
              "          docLink.innerHTML = docLinkHtml;\n",
              "          element.appendChild(docLink);\n",
              "        }\n",
              "      </script>\n",
              "    </div>\n",
              "  </div>\n",
              "  "
            ]
          },
          "metadata": {},
          "execution_count": 35
        }
      ]
    },
    {
      "cell_type": "markdown",
      "source": [
        "###**2.2.3 Carregando os dados**"
      ],
      "metadata": {
        "id": "zbquxqPrwhN-"
      }
    },
    {
      "cell_type": "markdown",
      "source": [
        "Com os dados de vacinação contra COVID-19 no Brasil editados e prontos, vamos gravá-los em disco como `arquivo csv` e posteriormente fazer o download para carregá-lo no **Google Data Studio**."
      ],
      "metadata": {
        "id": "dGOd-YbswtBP"
      }
    },
    {
      "cell_type": "code",
      "source": [
        "vacinas.to_csv('./covid-vacinas.csv', sep=',', index=False)"
      ],
      "metadata": {
        "id": "978H4OMHwjv9"
      },
      "execution_count": null,
      "outputs": []
    },
    {
      "cell_type": "markdown",
      "source": [
        "## **3\\. Exploração Interativa de Dados**\n"
      ],
      "metadata": {
        "id": "lu5qhjBFxA5v"
      }
    },
    {
      "cell_type": "markdown",
      "source": [
        "Com as bases de dados de casos de infecção por COVID-19 e sobre vacinação no Brasil editados e prontos, vamos seguir para a construção de uma **visualização interativa** através de um **dashboard** na plataforma **`Google Data Studio.`**"
      ],
      "metadata": {
        "id": "1LlVtNSjyME-"
      }
    },
    {
      "cell_type": "markdown",
      "source": [
        "###**3.1 KPIs (*key performance indicator*)** \n"
      ],
      "metadata": {
        "id": "_HKpAzxSy6UA"
      }
    },
    {
      "cell_type": "markdown",
      "source": [
        "O dashboard contruído contém os seguintes **indicadores chaves de desempenho** **`(KPIs)`** consolidados:"
      ],
      "metadata": {
        "id": "GY4K9BuizSrC"
      }
    },
    {
      "cell_type": "markdown",
      "source": [
        "**1.** Casos e mortes em 24 horas;\n",
        "\n",
        "**2.** Média móvel de casos e mortes (em 7 dias);\n",
        "\n",
        "**3.** Tendência de casos e mortes;\n",
        "\n",
        "**4.** Proporção de vacinados com 1ª, 2ª e 3ª doses."
      ],
      "metadata": {
        "id": "COzrVTc1ztdA"
      }
    },
    {
      "cell_type": "markdown",
      "source": [
        "###**3.2 EDA (*exploratory data analysis*)** \n"
      ],
      "metadata": {
        "id": "vop1G8Yx0TL3"
      }
    },
    {
      "cell_type": "markdown",
      "source": [
        "O dashboard construído contém gráficos para análise exploratória de dados interativa, são eles:"
      ],
      "metadata": {
        "id": "EPNJGAOK0e7z"
      }
    },
    {
      "cell_type": "markdown",
      "source": [
        "**1.** Distribuição do números de casos e mortes ao longo do tempo;\n",
        "\n",
        "**2.** Distribuição da média móvel (7 dias) do números de casos e mortes ao longo do tempo;\n",
        "\n",
        "**3.** Distribuição geográfica dos casos por estado por dia (mapa)."
      ],
      "metadata": {
        "id": "EoPJyQGT07tW"
      }
    },
    {
      "cell_type": "markdown",
      "source": [
        "## **4\\. Dashboard**\n"
      ],
      "metadata": {
        "id": "3YCnLKOy1FvV"
      }
    },
    {
      "cell_type": "markdown",
      "source": [
        "Para acessar o dashboard, clique [aqui](https://datastudio.google.com/reporting/9c6322b8-b5cb-4f91-a149-22f248fa50b1)."
      ],
      "metadata": {
        "id": "SOjOMVp51MN_"
      }
    },
    {
      "cell_type": "markdown",
      "source": [
        "\n",
        "\n",
        "---\n",
        "\n"
      ],
      "metadata": {
        "id": "somiN7p51sc0"
      }
    }
  ]
}